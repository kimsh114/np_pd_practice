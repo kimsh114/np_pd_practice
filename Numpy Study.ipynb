{
 "cells": [
  {
   "cell_type": "markdown",
   "metadata": {
    "id": "J_FfQuu2Tb30"
   },
   "source": [
    "# NumPy 공부"
   ]
  },
  {
   "cell_type": "markdown",
   "metadata": {
    "id": "Zgrrh9T2vs8u"
   },
   "source": [
    "\n",
    "\n",
    "---\n",
    "\n"
   ]
  },
  {
   "cell_type": "markdown",
   "metadata": {
    "id": "oR5hNBH-Retd"
   },
   "source": [
    "## NumPy 특징\n",
    "\n",
    "* Numerical Python의 약자\n",
    "* 고성능 과학 계산용 패키지로 강력한 N차원 배열 객체\n",
    "* 범용적 데이터 처리에 사용 가능한 다차원 컨테이너\n",
    "* 정교한 브로드캐스팅(broadcasting) 기능\n",
    "* 파이썬의 자료형 list와 비슷하지만, 더 빠르고 메모리를 효율적으로 관리\n",
    "* 반복문 없이 데이터 배열에 대한 처리를 지원하여 빠르고 편리\n",
    "* 데이터 과학 도구에 대한 생태계의 핵심을 이루고 있음"
   ]
  },
  {
   "cell_type": "code",
   "execution_count": 1,
   "metadata": {
    "id": "R9klTdhLQ564"
   },
   "outputs": [
    {
     "data": {
      "text/plain": [
       "'1.24.3'"
      ]
     },
     "execution_count": 1,
     "metadata": {},
     "output_type": "execute_result"
    }
   ],
   "source": [
    "import numpy as np\n",
    "np.__version__"
   ]
  },
  {
   "cell_type": "markdown",
   "metadata": {
    "id": "2hSWC5ptGyWP"
   },
   "source": [
    "\n",
    "\n",
    "---\n",
    "\n"
   ]
  },
  {
   "cell_type": "markdown",
   "metadata": {
    "id": "1kgkJZFlVUqk"
   },
   "source": [
    "## 배열 생성"
   ]
  },
  {
   "cell_type": "markdown",
   "metadata": {
    "id": "5eQ4sAkMbzm0"
   },
   "source": [
    "### 리스트로 배열 만들기\n"
   ]
  },
  {
   "cell_type": "code",
   "execution_count": 2,
   "metadata": {
    "id": "Mtod2jcPWVvV"
   },
   "outputs": [
    {
     "name": "stdout",
     "output_type": "stream",
     "text": [
      "[1 2 3 4 5]\n",
      "<class 'numpy.ndarray'>\n",
      "(5,)\n",
      "1 2 3 4 5\n"
     ]
    }
   ],
   "source": [
    "# 1차원 배열\n",
    "a1 = np.array([1,2,3,4,5]) \n",
    "print(a1)\n",
    "print(type(a1))\n",
    "print(a1.shape) # 배열이 어떤 모양을 가지는지 알려주는 속성 shape이다. #쉼표 뒤에 아무것도 없으면 1차원 배열이다.\n",
    "print(a1[0],a1[1],a1[2],a1[3],a1[4])\n",
    "\n"
   ]
  },
  {
   "cell_type": "code",
   "execution_count": 3,
   "metadata": {},
   "outputs": [
    {
     "name": "stdout",
     "output_type": "stream",
     "text": [
      "[6 2 3 3 5]\n"
     ]
    }
   ],
   "source": [
    "# 파이썬 리스트와 마찬가지로 수정이 가능하다.\n",
    "a1[0] = 6\n",
    "a1[3] =3\n",
    "print(a1)"
   ]
  },
  {
   "cell_type": "code",
   "execution_count": 4,
   "metadata": {
    "id": "vp9tkHH8esXT"
   },
   "outputs": [
    {
     "name": "stdout",
     "output_type": "stream",
     "text": [
      "[[1 2 3]\n",
      " [4 5 6]\n",
      " [7 8 9]]\n",
      "(3, 3)\n",
      "1 5 8\n"
     ]
    }
   ],
   "source": [
    "# 2차원 배열\n",
    "\n",
    "a2 = np.array([[1,2,3],\n",
    "               [4,5,6],\n",
    "              [7,8,9]])\n",
    "print(a2)\n",
    "print(a2.shape) # 3 by 3 짜리 배열이어야 한다. \n",
    "print(a2[0,0], a2[1,1], a2[2,1])"
   ]
  },
  {
   "cell_type": "code",
   "execution_count": 5,
   "metadata": {
    "id": "Baj4gZ2meuJu"
   },
   "outputs": [
    {
     "name": "stdout",
     "output_type": "stream",
     "text": [
      "[[[  1   2   3]\n",
      "  [  5   6   7]\n",
      "  [ 43   5  65]]\n",
      "\n",
      " [[  1   3   0]\n",
      "  [ 50  65   7]\n",
      "  [  3   5  65]]\n",
      "\n",
      " [[  1 203   3]\n",
      "  [556   6   7]\n",
      "  [  4 556 615]]]\n",
      "(3, 3, 3)\n"
     ]
    }
   ],
   "source": [
    "# 3차원 배열\n",
    "\n",
    "a3 = np.array([\n",
    "    [[1,2,3],[5,6,7],[43,5,65]],\n",
    "    [[1,3,0],[50,65,7],[3,5,65]],\n",
    "    [[1,203,3],[556,6,7],[4,556,615]],\n",
    "              ])\n",
    "print(a3)\n",
    "print(a3.shape)"
   ]
  },
  {
   "cell_type": "markdown",
   "metadata": {
    "id": "PNkKtw4CoSDB"
   },
   "source": [
    "### 배열 생성 및 초기화"
   ]
  },
  {
   "cell_type": "markdown",
   "metadata": {
    "id": "mJVii5p_VfgM"
   },
   "source": [
    "* `zeros()`: 모든 요소를 0으로 초기화"
   ]
  },
  {
   "cell_type": "code",
   "execution_count": 6,
   "metadata": {
    "id": "W_SF1tVoVTf1"
   },
   "outputs": [
    {
     "data": {
      "text/plain": [
       "array([0., 0., 0., 0., 0., 0., 0., 0., 0., 0., 0., 0., 0.])"
      ]
     },
     "execution_count": 6,
     "metadata": {},
     "output_type": "execute_result"
    }
   ],
   "source": [
    "np.zeros(13) # 1차원 배열로 13개의 요소를 0으로 초기화함."
   ]
  },
  {
   "cell_type": "markdown",
   "metadata": {
    "id": "LjYFQrODVqhX"
   },
   "source": [
    "* `ones()`: 모든 요소를 1로 초기화"
   ]
  },
  {
   "cell_type": "code",
   "execution_count": 7,
   "metadata": {
    "id": "MURoqsMsVeUw"
   },
   "outputs": [
    {
     "data": {
      "text/plain": [
       "array([[1., 1., 1., 1., 1.],\n",
       "       [1., 1., 1., 1., 1.],\n",
       "       [1., 1., 1., 1., 1.],\n",
       "       [1., 1., 1., 1., 1.],\n",
       "       [1., 1., 1., 1., 1.]])"
      ]
     },
     "execution_count": 7,
     "metadata": {},
     "output_type": "execute_result"
    }
   ],
   "source": [
    "np.ones((5,5)) # 2차원 배열로 모든 요소를 1로 초기화"
   ]
  },
  {
   "cell_type": "markdown",
   "metadata": {
    "id": "jnmm3Cj-cGtx"
   },
   "source": [
    "* `full()`: 모든 요소를 지정한 값으로 초기화"
   ]
  },
  {
   "cell_type": "code",
   "execution_count": 8,
   "metadata": {
    "id": "oscabrdcV7Ny"
   },
   "outputs": [
    {
     "name": "stdout",
     "output_type": "stream",
     "text": [
      "[[1.3 1.3 1.3]\n",
      " [1.3 1.3 1.3]\n",
      " [1.3 1.3 1.3]]\n",
      "[334 334 334 334]\n"
     ]
    }
   ],
   "source": [
    "a = np.full((3,3),1.3) # np.full(차원,지정 값)\n",
    "b = np.full(4,334)\n",
    "print(a) # a = 2차원\n",
    "print(b) # b = 1차원"
   ]
  },
  {
   "cell_type": "markdown",
   "metadata": {
    "id": "0SRI4jbmlIKc"
   },
   "source": [
    "* `eye()`: 단위행렬(identity matrix) 생성\n",
    "  + 주대각선의 원소가 모두 1이고 나머지 원소는 모두 0인 **정사각 행렬**"
   ]
  },
  {
   "cell_type": "code",
   "execution_count": 9,
   "metadata": {
    "id": "VceBVLLjk9o5"
   },
   "outputs": [
    {
     "data": {
      "text/plain": [
       "array([[1., 0., 0., 0.],\n",
       "       [0., 1., 0., 0.],\n",
       "       [0., 0., 1., 0.],\n",
       "       [0., 0., 0., 1.]])"
      ]
     },
     "execution_count": 9,
     "metadata": {},
     "output_type": "execute_result"
    }
   ],
   "source": [
    "np.eye(4) # shape 필요없이 n값만 주면 된다."
   ]
  },
  {
   "cell_type": "markdown",
   "metadata": {
    "id": "7CCH1ZMT5R02"
   },
   "source": [
    "* `tri()`: 삼각행렬 생성"
   ]
  },
  {
   "cell_type": "code",
   "execution_count": 10,
   "metadata": {
    "id": "mLe2Bhj05VYu"
   },
   "outputs": [
    {
     "data": {
      "text/plain": [
       "array([[1., 0., 0.],\n",
       "       [1., 1., 0.],\n",
       "       [1., 1., 1.]])"
      ]
     },
     "execution_count": 10,
     "metadata": {},
     "output_type": "execute_result"
    }
   ],
   "source": [
    "np.tri(3) # 이거도 마찬가지로 n값만 주면 된다."
   ]
  },
  {
   "cell_type": "markdown",
   "metadata": {
    "id": "ObZRA4HclZlO"
   },
   "source": [
    "* `empty()`: 초기화되지 않은 배열 생성\n",
    "  + 초기화가 없어서 배열 생성비용 저렴하고 빠름\n",
    "  + 초기화되지 않아서 기존 메모리 위치에 존재하는 값이 있음"
   ]
  },
  {
   "cell_type": "code",
   "execution_count": 11,
   "metadata": {
    "id": "I3SoFgiglAkz"
   },
   "outputs": [
    {
     "data": {
      "text/plain": [
       "array([nan,  0.,  0.,  0.,  0.,  0.,  0.,  0.,  0.,  0.])"
      ]
     },
     "execution_count": 11,
     "metadata": {},
     "output_type": "execute_result"
    }
   ],
   "source": [
    "np.empty(10) \n"
   ]
  },
  {
   "cell_type": "markdown",
   "metadata": {
    "id": "p3uSl1Ccmi5_"
   },
   "source": [
    "* `_like()`: 지정된 배열과 shape가 같은 행렬 생성\n",
    "  + `np.zeros_like()`\n",
    "  + `np.ones_like()`\n",
    "  + `np.full_like()`\n",
    "  + `np.empty_like()`"
   ]
  },
  {
   "cell_type": "code",
   "execution_count": 12,
   "metadata": {
    "id": "Ad5RskRRlZLs"
   },
   "outputs": [
    {
     "name": "stdout",
     "output_type": "stream",
     "text": [
      "[6 2 3 3 5]\n"
     ]
    },
    {
     "data": {
      "text/plain": [
       "array([0, 0, 0, 0, 0])"
      ]
     },
     "execution_count": 12,
     "metadata": {},
     "output_type": "execute_result"
    }
   ],
   "source": [
    "print(a1)\n",
    "np.zeros_like(a1) # a1의 shape과 같은 모양으로 0이 채워진 배열을 만들어주라는 의미이다."
   ]
  },
  {
   "cell_type": "code",
   "execution_count": 13,
   "metadata": {
    "id": "KChUHsG003Nf"
   },
   "outputs": [
    {
     "name": "stdout",
     "output_type": "stream",
     "text": [
      "[[1 2 3]\n",
      " [4 5 6]\n",
      " [7 8 9]]\n"
     ]
    },
    {
     "data": {
      "text/plain": [
       "array([[1, 1, 1],\n",
       "       [1, 1, 1],\n",
       "       [1, 1, 1]])"
      ]
     },
     "execution_count": 13,
     "metadata": {},
     "output_type": "execute_result"
    }
   ],
   "source": [
    "print(a2)\n",
    "np.ones_like(a2) # a2와 같은 shape로 1이 채워진 배열을 만들어줘 /2차원"
   ]
  },
  {
   "cell_type": "code",
   "execution_count": 14,
   "metadata": {
    "id": "PUnDz6b305Gg"
   },
   "outputs": [
    {
     "name": "stdout",
     "output_type": "stream",
     "text": [
      "[[[  1   2   3]\n",
      "  [  5   6   7]\n",
      "  [ 43   5  65]]\n",
      "\n",
      " [[  1   3   0]\n",
      "  [ 50  65   7]\n",
      "  [  3   5  65]]\n",
      "\n",
      " [[  1 203   3]\n",
      "  [556   6   7]\n",
      "  [  4 556 615]]]\n"
     ]
    },
    {
     "data": {
      "text/plain": [
       "array([[[10, 10, 10],\n",
       "        [10, 10, 10],\n",
       "        [10, 10, 10]],\n",
       "\n",
       "       [[10, 10, 10],\n",
       "        [10, 10, 10],\n",
       "        [10, 10, 10]],\n",
       "\n",
       "       [[10, 10, 10],\n",
       "        [10, 10, 10],\n",
       "        [10, 10, 10]]])"
      ]
     },
     "execution_count": 14,
     "metadata": {},
     "output_type": "execute_result"
    }
   ],
   "source": [
    "print(a3)\n",
    "np.full_like(a3, 10) # a3와 같은 shape로 10으로 채워진 배열을 만들어줘"
   ]
  },
  {
   "cell_type": "markdown",
   "metadata": {
    "id": "apoksGJNrn1z"
   },
   "source": [
    "### 생성한 값으로 배열 생성"
   ]
  },
  {
   "cell_type": "markdown",
   "metadata": {
    "id": "H3nmLct8cnV8"
   },
   "source": [
    "* `arange()`: 정수 범위로 배열 생성"
   ]
  },
  {
   "cell_type": "code",
   "execution_count": 15,
   "metadata": {
    "id": "mANy4WY4cDKa"
   },
   "outputs": [
    {
     "data": {
      "text/plain": [
       "array([ 0,  1,  2,  3,  4,  5,  6,  7,  8,  9, 10, 11, 12, 13, 14, 15, 16,\n",
       "       17, 18, 19, 20, 21, 22, 23, 24, 25, 26, 27, 28, 29])"
      ]
     },
     "execution_count": 15,
     "metadata": {},
     "output_type": "execute_result"
    }
   ],
   "source": [
    "np.arange(0,30) # 이거는 파이썬에서 range함수와 같다/ 하지만 array로 만들어진다."
   ]
  },
  {
   "cell_type": "markdown",
   "metadata": {
    "id": "s5kET1e6itlo"
   },
   "source": [
    "* `linspace()`: 범위 내에서 균등 간격의 배열 생성 \n",
    "\n",
    " *로그스케일: 매우 광범위한 범위의 수치 데이터를 로그를 이용하여 간결하게 표시하는 눈금의 일종이다."
   ]
  },
  {
   "cell_type": "code",
   "execution_count": 16,
   "metadata": {
    "id": "u4q9gI7Zcltz"
   },
   "outputs": [
    {
     "data": {
      "text/plain": [
       "array([0.  , 0.25, 0.5 , 0.75, 1.  ])"
      ]
     },
     "execution_count": 16,
     "metadata": {},
     "output_type": "execute_result"
    }
   ],
   "source": [
    "np.linspace(0,1,5) # 0부터 1 사이를 출력하는데 균등하게 5등분 해줘"
   ]
  },
  {
   "cell_type": "markdown",
   "metadata": {
    "id": "Eq26d7T3nnAH"
   },
   "source": [
    "* `logspace()`: 범위 내에서 균등간격으로 로그 스케일로 배열 생성"
   ]
  },
  {
   "cell_type": "code",
   "execution_count": 17,
   "metadata": {
    "id": "-O29WBVEnyXX"
   },
   "outputs": [
    {
     "data": {
      "text/plain": [
       "array([ 1.25892541,  2.11348904,  3.54813389,  5.95662144, 10.        ])"
      ]
     },
     "execution_count": 17,
     "metadata": {},
     "output_type": "execute_result"
    }
   ],
   "source": [
    "np.logspace(0.1,1,5)"
   ]
  },
  {
   "cell_type": "markdown",
   "metadata": {
    "id": "6_88s4_Jr7fO"
   },
   "source": [
    "### 랜덤값으로 배열 생성\n"
   ]
  },
  {
   "cell_type": "markdown",
   "metadata": {
    "id": "CoK1cVUkjNMg"
   },
   "source": [
    "* `random.random()`: 랜덤한 수의 배열 생성"
   ]
  },
  {
   "cell_type": "code",
   "execution_count": 18,
   "metadata": {
    "id": "qJwccKEnjMze"
   },
   "outputs": [
    {
     "data": {
      "text/plain": [
       "array([[0.66676697, 0.26282174, 0.32772623, 0.52040943],\n",
       "       [0.70316221, 0.34399963, 0.57527103, 0.78366675],\n",
       "       [0.2734269 , 0.89159706, 0.89479251, 0.29183417],\n",
       "       [0.95312178, 0.1250867 , 0.09378926, 0.44254359]])"
      ]
     },
     "execution_count": 18,
     "metadata": {},
     "output_type": "execute_result"
    }
   ],
   "source": [
    "np.random.random() # 기본 랜덤은 실수값을 반환해준다\n",
    "np.random.random((4,4)) # 이거는 안에 shape을 넣어주는 것이다."
   ]
  },
  {
   "cell_type": "markdown",
   "metadata": {
    "id": "BYsAVwA1kvDI"
   },
   "source": [
    "* `random.randint()`: 일정 구간의 랜덤 정수의 배열 생성"
   ]
  },
  {
   "cell_type": "code",
   "execution_count": 19,
   "metadata": {
    "id": "oR-UszZ_jqfQ"
   },
   "outputs": [
    {
     "data": {
      "text/plain": [
       "array([[28, 28, 20],\n",
       "       [24, 22, 22]])"
      ]
     },
     "execution_count": 19,
     "metadata": {},
     "output_type": "execute_result"
    }
   ],
   "source": [
    "np.random.randint(0,30, (2,3)) # 0부터 30까지 2 by 3 shape"
   ]
  },
  {
   "cell_type": "markdown",
   "metadata": {
    "id": "2r557WHsjrL3"
   },
   "source": [
    "* `random.normal()`: 정규분포(normal distribution)를 고려한 랜덤한 수의 배열 생성\n",
    "* 평균=0, 표준편차=1, 3 x 3 배열"
   ]
  },
  {
   "cell_type": "code",
   "execution_count": 20,
   "metadata": {
    "id": "Oan3bSpHi2Wq"
   },
   "outputs": [
    {
     "data": {
      "text/plain": [
       "array([[ 59.24377068, -30.57438426,  -2.61636036, -11.16482947],\n",
       "       [ -9.91417675,   0.92036111,  -5.77795509, -41.59858592],\n",
       "       [-42.79811366,  14.31809607,  19.31801691, -48.80360579]])"
      ]
     },
     "execution_count": 20,
     "metadata": {},
     "output_type": "execute_result"
    }
   ],
   "source": [
    "np.random.normal(0, 34, (3,4)) # 0 부터 34까지 3 by 4 사이즈로 만든 표준편차"
   ]
  },
  {
   "cell_type": "markdown",
   "metadata": {
    "id": "fPO-D1rHsrFw"
   },
   "source": [
    "* `random.rand()`: 균등분포(uniform distribution)를 고려한 랜덤한 수의 배열 생성"
   ]
  },
  {
   "cell_type": "code",
   "execution_count": 21,
   "metadata": {
    "id": "DxiyEjnXnDUT"
   },
   "outputs": [
    {
     "data": {
      "text/plain": [
       "array([[0.77394888, 0.39281529, 0.08129895],\n",
       "       [0.84056456, 0.70661478, 0.07712178],\n",
       "       [0.43056654, 0.3898734 , 0.07466657]])"
      ]
     },
     "execution_count": 21,
     "metadata": {},
     "output_type": "execute_result"
    }
   ],
   "source": [
    "np.random.rand(3,3) "
   ]
  },
  {
   "cell_type": "markdown",
   "metadata": {
    "id": "IegH2dsPLQgd"
   },
   "source": [
    "* `random.randn()`: 표준 정규 분포(standard normal distribution)를 고려한 랜덤한 수의 배열 생성"
   ]
  },
  {
   "cell_type": "code",
   "execution_count": 22,
   "metadata": {
    "id": "V61VHa-JLIma"
   },
   "outputs": [
    {
     "data": {
      "text/plain": [
       "array([[-0.4162911 , -0.4713342 , -0.17862354, -2.14498045],\n",
       "       [ 0.03835597,  0.66851437, -0.25098908,  0.17863224],\n",
       "       [-0.26839558,  0.30960858,  1.81712223,  0.60171249]])"
      ]
     },
     "execution_count": 22,
     "metadata": {},
     "output_type": "execute_result"
    }
   ],
   "source": [
    "np.random.randn(3,4)"
   ]
  },
  {
   "cell_type": "markdown",
   "metadata": {
    "id": "5ts0cYLQL_pT"
   },
   "source": [
    "### 표준 데이터 타입"
   ]
  },
  {
   "cell_type": "code",
   "execution_count": 23,
   "metadata": {
    "id": "rxqTqAFKL73y"
   },
   "outputs": [
    {
     "data": {
      "text/plain": [
       "array([0, 0, 0, 0, 0, 0, 0, 0, 0, 0, 0, 0, 0, 0, 0, 0, 0, 0, 0, 0])"
      ]
     },
     "execution_count": 23,
     "metadata": {},
     "output_type": "execute_result"
    }
   ],
   "source": [
    "np.zeros(20, dtype=int) #  0으로 20개를 뽑는데, dtype을 int로 해줘"
   ]
  },
  {
   "cell_type": "code",
   "execution_count": 24,
   "metadata": {
    "id": "o9TuSl6HIsXr"
   },
   "outputs": [
    {
     "data": {
      "text/plain": [
       "array([ True,  True,  True,  True,  True,  True,  True,  True,  True,\n",
       "        True,  True,  True,  True,  True,  True,  True,  True,  True,\n",
       "        True,  True,  True,  True,  True,  True,  True,  True,  True,\n",
       "        True,  True,  True])"
      ]
     },
     "execution_count": 24,
     "metadata": {},
     "output_type": "execute_result"
    }
   ],
   "source": [
    "np.ones(30,dtype = bool) # bool 타입으로 함, 1은 T 이므로 다 T 이다."
   ]
  },
  {
   "cell_type": "code",
   "execution_count": 25,
   "metadata": {
    "id": "w-TciNfzEhY0"
   },
   "outputs": [
    {
     "data": {
      "text/plain": [
       "array([[2., 2., 2.],\n",
       "       [2., 2., 2.],\n",
       "       [2., 2., 2.]])"
      ]
     },
     "execution_count": 25,
     "metadata": {},
     "output_type": "execute_result"
    }
   ],
   "source": [
    "np.full((3,3),2,dtype = float) # 3by 3으로 2라는 정수값을 실수값으로 표현해줘"
   ]
  },
  {
   "cell_type": "markdown",
   "metadata": {
    "id": "1qFumu-p-0mQ"
   },
   "source": [
    "### 날짜/시간 배열 생성\n"
   ]
  },
  {
   "cell_type": "code",
   "execution_count": 26,
   "metadata": {
    "id": "D8ozvTUf-6Rr"
   },
   "outputs": [
    {
     "data": {
      "text/plain": [
       "array('2023-01-01', dtype='datetime64[D]')"
      ]
     },
     "execution_count": 26,
     "metadata": {},
     "output_type": "execute_result"
    }
   ],
   "source": [
    "date = np.array('2023-01-01', dtype = np.datetime64) # datetime64 => 날짜 시간을 나타내게 하는 타입이다.\n",
    "date"
   ]
  },
  {
   "cell_type": "code",
   "execution_count": 27,
   "metadata": {
    "id": "XIjLUkn6_K3J"
   },
   "outputs": [
    {
     "data": {
      "text/plain": [
       "array(['2023-01-01', '2023-01-02', '2023-01-03', '2023-01-04',\n",
       "       '2023-01-05', '2023-01-06', '2023-01-07', '2023-01-08',\n",
       "       '2023-01-09', '2023-01-10', '2023-01-11', '2023-01-12'],\n",
       "      dtype='datetime64[D]')"
      ]
     },
     "execution_count": 27,
     "metadata": {},
     "output_type": "execute_result"
    }
   ],
   "source": [
    "date + np.arange(12) # 현재 날짜에서 12일 앞의 날짜까지 구해서 배열에 넣어줌"
   ]
  },
  {
   "cell_type": "code",
   "execution_count": 28,
   "metadata": {
    "id": "EO7yE5VR_Wlh"
   },
   "outputs": [
    {
     "data": {
      "text/plain": [
       "numpy.datetime64('2023-08-10T23:00')"
      ]
     },
     "execution_count": 28,
     "metadata": {},
     "output_type": "execute_result"
    }
   ],
   "source": [
    "datetime = np.datetime64('2023-08-10 23:00')\n",
    "datetime"
   ]
  },
  {
   "cell_type": "markdown",
   "metadata": {
    "id": "5AREIamhGxAr"
   },
   "source": [
    "\n",
    "\n",
    "---\n",
    "\n"
   ]
  },
  {
   "cell_type": "markdown",
   "metadata": {
    "id": "d88tkTqbBE5V"
   },
   "source": [
    "## 배열 조회"
   ]
  },
  {
   "cell_type": "markdown",
   "metadata": {
    "id": "vRqwfbjtFnPn"
   },
   "source": [
    "### 배열 속성 정보"
   ]
  },
  {
   "cell_type": "code",
   "execution_count": 29,
   "metadata": {
    "id": "R5Rlcll7GXrM"
   },
   "outputs": [],
   "source": [
    "def array_info(array):\n",
    "    print(array)\n",
    "    print('ndim:', array.ndim) # ndim = 차원\n",
    "    print('shape:', array.shape)\n",
    "    print('dtype:',array.dtype)\n",
    "    print('size:', array.size)\n",
    "    print('itemsize:', array.itemsize) # 하나의 아이템이 가지는 바이트 사이즈\n",
    "    print('nbytes:', array.nbytes)#byte의 크기가 몇인지 알 수 있다.\n",
    "    print('strides:', array.strides) # 다음 차원로 넘어갈 때 필요한 바이트 크기"
   ]
  },
  {
   "cell_type": "code",
   "execution_count": 30,
   "metadata": {
    "id": "Na59LwA7KXZV"
   },
   "outputs": [
    {
     "name": "stdout",
     "output_type": "stream",
     "text": [
      "[6 2 3 3 5]\n",
      "ndim: 1\n",
      "shape: (5,)\n",
      "dtype: int32\n",
      "size: 5\n",
      "itemsize: 4\n",
      "nbytes: 20\n",
      "strides: (4,)\n"
     ]
    }
   ],
   "source": [
    "array_info(a1)"
   ]
  },
  {
   "cell_type": "code",
   "execution_count": 31,
   "metadata": {
    "id": "Urzr_LsdLah0"
   },
   "outputs": [
    {
     "name": "stdout",
     "output_type": "stream",
     "text": [
      "[[1 2 3]\n",
      " [4 5 6]\n",
      " [7 8 9]]\n",
      "ndim: 2\n",
      "shape: (3, 3)\n",
      "dtype: int32\n",
      "size: 9\n",
      "itemsize: 4\n",
      "nbytes: 36\n",
      "strides: (12, 4)\n"
     ]
    }
   ],
   "source": [
    "array_info(a2)"
   ]
  },
  {
   "cell_type": "code",
   "execution_count": 32,
   "metadata": {
    "id": "jktqh1lsLf4V"
   },
   "outputs": [
    {
     "name": "stdout",
     "output_type": "stream",
     "text": [
      "[[[  1   2   3]\n",
      "  [  5   6   7]\n",
      "  [ 43   5  65]]\n",
      "\n",
      " [[  1   3   0]\n",
      "  [ 50  65   7]\n",
      "  [  3   5  65]]\n",
      "\n",
      " [[  1 203   3]\n",
      "  [556   6   7]\n",
      "  [  4 556 615]]]\n",
      "ndim: 3\n",
      "shape: (3, 3, 3)\n",
      "dtype: int32\n",
      "size: 27\n",
      "itemsize: 4\n",
      "nbytes: 108\n",
      "strides: (36, 12, 4)\n"
     ]
    }
   ],
   "source": [
    "array_info(a3)"
   ]
  },
  {
   "cell_type": "markdown",
   "metadata": {
    "id": "LV1WfdBWFqDu"
   },
   "source": [
    "### 인덱싱(Indexing)"
   ]
  },
  {
   "cell_type": "code",
   "execution_count": 35,
   "metadata": {
    "id": "Nyb7eDmGFr5m"
   },
   "outputs": [
    {
     "name": "stdout",
     "output_type": "stream",
     "text": [
      "[6 2 3 3 5]\n",
      "6\n",
      "5\n"
     ]
    }
   ],
   "source": [
    "print(a1)\n",
    "print(a1[0])\n",
    "print(a1[-1])"
   ]
  },
  {
   "cell_type": "code",
   "execution_count": 40,
   "metadata": {
    "id": "uHMNcQW3Kn-h"
   },
   "outputs": [
    {
     "name": "stdout",
     "output_type": "stream",
     "text": [
      "[[1 2 3]\n",
      " [4 5 6]\n",
      " [7 8 9]]\n",
      "2\n",
      "6\n"
     ]
    }
   ],
   "source": [
    "print(a2)\n",
    "print(a2[0,1])\n",
    "print(a2[1,-1])"
   ]
  },
  {
   "cell_type": "code",
   "execution_count": 44,
   "metadata": {
    "id": "IX5yDMGiMxYZ"
   },
   "outputs": [
    {
     "name": "stdout",
     "output_type": "stream",
     "text": [
      "[[[  1   2   3]\n",
      "  [  5   6   7]\n",
      "  [ 43   5  65]]\n",
      "\n",
      " [[  1   3   0]\n",
      "  [ 50  65   7]\n",
      "  [  3   5  65]]\n",
      "\n",
      " [[  1 203   3]\n",
      "  [556   6   7]\n",
      "  [  4 556 615]]]\n",
      "65\n",
      "7\n"
     ]
    }
   ],
   "source": [
    "print(a3)\n",
    "print(a3[1,2,2])\n",
    "print(a3[2,1,2])"
   ]
  },
  {
   "cell_type": "markdown",
   "metadata": {
    "id": "uSeXu2y_O4cu"
   },
   "source": [
    "### 슬라이싱(Slicing)"
   ]
  },
  {
   "cell_type": "markdown",
   "metadata": {
    "id": "1hikO_6ZPp5m"
   },
   "source": [
    "* 슬라이싱 구문: `a[start:stop:step]`\n",
    "* 기본값: start=0, stop=ndim, step=1"
   ]
  },
  {
   "cell_type": "code",
   "execution_count": 50,
   "metadata": {
    "id": "PYZOOCoVO7BF"
   },
   "outputs": [
    {
     "name": "stdout",
     "output_type": "stream",
     "text": [
      "[6 2 3 3 5]\n",
      "[6 2 3]\n",
      "[6 3 5]\n",
      "[5 3 3 2 6]\n"
     ]
    }
   ],
   "source": [
    "print(a1)\n",
    "print(a1[0:3])\n",
    "print(a1[0::2])\n",
    "print(a1[::-1])"
   ]
  },
  {
   "cell_type": "code",
   "execution_count": 63,
   "metadata": {
    "id": "oULOFrBQWs1G"
   },
   "outputs": [
    {
     "name": "stdout",
     "output_type": "stream",
     "text": [
      "[[1 2 3]\n",
      " [4 5 6]\n",
      " [7 8 9]]\n",
      "--------------\n",
      "[4 5 6]\n",
      "--------------\n",
      "[4 5]\n",
      "--------------\n",
      "[[2 3]\n",
      " [5 6]\n",
      " [8 9]]\n",
      "--------------\n",
      "[[9 8 7]\n",
      " [6 5 4]\n",
      " [3 2 1]]\n"
     ]
    }
   ],
   "source": [
    "print(a2)\n",
    "print('--------------')\n",
    "print(a2[1])\n",
    "print('--------------')\n",
    "print(a2[1,:-1])\n",
    "print('--------------')\n",
    "print(a2[:,1:]) # 한 마디로 2차원은 행,열 이라고 보면 된다.\n",
    "print('--------------')\n",
    "print(a2[::-1,::-1]) # 행 열 모두 역으로 출력 되도록 하기 위함"
   ]
  },
  {
   "cell_type": "markdown",
   "metadata": {
    "id": "LD52bXAsBgbH"
   },
   "source": [
    "### 불리언 인덱싱(Boolean Indexing)\n",
    "\n",
    "* 배열 각 요소의 선택 여부를 불리언(True or False)로 지정\n",
    "* True 값인 인덱스의 값만 조회"
   ]
  },
  {
   "cell_type": "code",
   "execution_count": 66,
   "metadata": {
    "id": "pOvNsH2oBgz-"
   },
   "outputs": [
    {
     "name": "stdout",
     "output_type": "stream",
     "text": [
      "[6 2 3 3 5]\n",
      "--------------\n",
      "[2 3 5]\n",
      "--------------\n",
      "[2 3 5]\n"
     ]
    }
   ],
   "source": [
    "print(a1)\n",
    "print('--------------')\n",
    "\n",
    "bi = [False, True,True,False,True]\n",
    "print(a1[bi]) # 이렇게 하면 트루인 값들만 출력이 되게 된다.\n",
    "\n",
    "print('--------------')\n",
    "bi1 = [True, False,True,False,False]\n",
    "print(a1[bi])"
   ]
  },
  {
   "cell_type": "code",
   "execution_count": 69,
   "metadata": {
    "id": "EFfquM2kWHAU"
   },
   "outputs": [
    {
     "name": "stdout",
     "output_type": "stream",
     "text": [
      "[[1 2 3]\n",
      " [4 5 6]\n",
      " [7 8 9]]\n",
      "[[ True False False]\n",
      " [False False  True]\n",
      " [ True  True False]]\n"
     ]
    }
   ],
   "source": [
    "# 불리언 인덱싱은 자주 쓰인다.\n",
    "print(a2)\n",
    "bi = np.random.randint(0,2,(3,3),dtype = bool) # random 인데 int로 해주고, 2차원 array를 3 by 3으로 만들어 주는데 bool타입으로 해줘\n",
    "print(bi)"
   ]
  },
  {
   "cell_type": "markdown",
   "metadata": {
    "id": "R5hes-hdBujH"
   },
   "source": [
    "### 팬시 인덱싱(Fancy Indedxing)"
   ]
  },
  {
   "cell_type": "code",
   "execution_count": 81,
   "metadata": {
    "id": "z-Luw5fzBx30"
   },
   "outputs": [
    {
     "name": "stdout",
     "output_type": "stream",
     "text": [
      "[6 2 3 3 5]\n",
      "--------------\n",
      "[6, 3]\n",
      "--------------\n",
      "[6 3]\n",
      "--------------\n",
      "[[6 2]\n",
      " [3 6]]\n"
     ]
    }
   ],
   "source": [
    "print(a1)\n",
    "print('--------------')\n",
    "print([a1[0],a1[2]])\n",
    "print('--------------')\n",
    "ind = [0,2] # 인덱스를 묶어서 한 번에 전달을 해준다. // 위 처럼 각각 적을 필요가 없다.\n",
    "print(a1[ind])\n",
    "\n",
    "ind1 = np.array([[0,1],  # 1차원 배열에 2차원 인덱싱을 주면 2차원으로 나온다.\n",
    "               [2,0]])\n",
    "print('--------------')\n",
    "\n",
    "print(a1[ind1])"
   ]
  },
  {
   "cell_type": "code",
   "execution_count": 98,
   "metadata": {
    "id": "p_Dd0oiJahgj"
   },
   "outputs": [
    {
     "name": "stdout",
     "output_type": "stream",
     "text": [
      "[[1 2 3]\n",
      " [4 5 6]\n",
      " [7 8 9]]\n",
      "--------------\n",
      "[2 9]\n",
      "--------------\n",
      "[[1 2 3]\n",
      " [7 8 9]]\n",
      "--------------\n",
      "[[2 3]\n",
      " [5 6]\n",
      " [8 9]]\n",
      "--------------\n",
      "[[5 6]\n",
      " [8 9]]\n",
      "--------------\n",
      "[[2 3]\n",
      " [8 9]]\n"
     ]
    }
   ],
   "source": [
    "print(a2)\n",
    "# 세로로 한 번 봐보자\n",
    "row = np.array([0,2]) # 행\n",
    "col = np.array([1,2]) # 열\n",
    "print('--------------')\n",
    "print(a2[row,col]) \n",
    "print('--------------')\n",
    "print(a2[row,:])\n",
    "print('--------------')\n",
    "print(a2[:,col])\n",
    "print('--------------')\n",
    "print(a2[1:,col])\n",
    "print('--------------')\n",
    "print(a2[row,1:])"
   ]
  },
  {
   "cell_type": "markdown",
   "metadata": {
    "id": "F71_PQF1GvTs"
   },
   "source": [
    "\n",
    "\n",
    "---\n",
    "\n"
   ]
  },
  {
   "cell_type": "markdown",
   "metadata": {
    "id": "zDI5yQ58O-IX"
   },
   "source": [
    "## 배열 값 삽입/수정/삭제/복사"
   ]
  },
  {
   "cell_type": "markdown",
   "metadata": {
    "id": "zajd1qpVOQYy"
   },
   "source": [
    "### 배열 값 삽입\n",
    "\n",
    "* `insert()`: 배열의 특정 위치에 값 삽입\n",
    "* axis를 지정하지 않으면 1차원 배열로 변환\n",
    "* 추가할 방향을 axis로 지정\n",
    "* 원본 배열 변경없이 새로운 배열 반환"
   ]
  },
  {
   "cell_type": "code",
   "execution_count": 105,
   "metadata": {
    "id": "sedRT54rP395"
   },
   "outputs": [
    {
     "name": "stdout",
     "output_type": "stream",
     "text": [
      "[6 2 3 3 5]\n",
      "--------------\n",
      "[10  6  2  3  3  5]\n",
      "--------------\n",
      "[ 6  2  3 44  3  5]\n"
     ]
    }
   ],
   "source": [
    "print(a1)\n",
    "\n",
    "b1 = np.insert(a1,0,10) # np.insert(array, 위치(인덱스), 넣어줄 값 )\n",
    "print('--------------')\n",
    "print(b1)\n",
    "# a1 은 바뀌지 않고, b1이라는 새로운 배열이 생김\n",
    "print('--------------')\n",
    "c1 = np.insert(a1,3,44)\n",
    "print(c1)"
   ]
  },
  {
   "cell_type": "code",
   "execution_count": 110,
   "metadata": {
    "id": "zNmu1E4iQ6h-"
   },
   "outputs": [
    {
     "name": "stdout",
     "output_type": "stream",
     "text": [
      "[[1 2 3]\n",
      " [4 5 6]\n",
      " [7 8 9]]\n",
      "--------------\n",
      "[[ 1  2  3]\n",
      " [10 10 10]\n",
      " [ 4  5  6]\n",
      " [ 7  8  9]]\n",
      "--------------\n",
      "[[ 1 90  2  3]\n",
      " [ 4 90  5  6]\n",
      " [ 7 90  8  9]]\n"
     ]
    }
   ],
   "source": [
    "print(a2)\n",
    "print('--------------')\n",
    "b2 = np.insert(a2,1,10,axis = 0) # axis = 0 은 행\n",
    "c2 = np.insert(a2,1,90,axis =1) # axis =1 은 열이다.\n",
    "print(b2)\n",
    "print('--------------')\n",
    "print(c2)"
   ]
  },
  {
   "cell_type": "markdown",
   "metadata": {
    "id": "OlEzG4ffNjyL"
   },
   "source": [
    "### 배열 값 수정\n",
    "\n",
    "* 배열의 인덱싱으로 접근하여 값 수정"
   ]
  },
  {
   "cell_type": "code",
   "execution_count": 119,
   "metadata": {
    "id": "ec43i1KWNjeN"
   },
   "outputs": [
    {
     "name": "stdout",
     "output_type": "stream",
     "text": [
      "[78  4 31  4  4]\n",
      "--------------\n",
      "[ 5 12 31  4  4]\n",
      "--------------\n",
      "[78 78 31  4  4]\n",
      "--------------\n",
      "[78  0 31  0  0]\n",
      "--------------\n",
      "[78  4 31  4  4]\n"
     ]
    }
   ],
   "source": [
    "print(a1)\n",
    "a1[0] = 5\n",
    "a1[1] = 12\n",
    "a1[2] = 31\n",
    "print('--------------')\n",
    "\n",
    "print(a1)\n",
    "print('--------------')\n",
    "\n",
    "a1[:2] =78 # 슬라이싱을 통해서 어느 부분부터 어디까지 바꿔달라는게 가능하다.\n",
    "print(a1)\n",
    "print('--------------')\n",
    "\n",
    "i = np.array([1,3,4]) # 팬시 인덱싱을 통한 방법이다.\n",
    "a1[i] = 0 \n",
    "print(a1)\n",
    "print('--------------')\n",
    "\n",
    "a1[i] +=4 # a1의 i번째에 4를 더해서 출력하라는 것도 된다.\n",
    "print(a1)"
   ]
  },
  {
   "cell_type": "code",
   "execution_count": 122,
   "metadata": {
    "id": "IApNNx3NOMQh"
   },
   "outputs": [
    {
     "name": "stdout",
     "output_type": "stream",
     "text": [
      "[[1 1 1]\n",
      " [4 2 6]\n",
      " [7 8 3]]\n",
      "--------------\n",
      "[[1 1 1]\n",
      " [4 2 6]\n",
      " [7 8 3]]\n",
      "--------------\n",
      "[[ 1  1  1]\n",
      " [ 4  2 19]\n",
      " [ 7  8 19]]\n"
     ]
    }
   ],
   "source": [
    "print(a2) \n",
    "a2[0,0] =1\n",
    "a2[1,1] = 2\n",
    "a2[2,2] = 3\n",
    "a2[0] =1 # 0번째 행이 다 1로 바뀜\n",
    "print('--------------')\n",
    "print(a2)\n",
    "print('--------------')\n",
    "a2[1:,2] = 19\n",
    "print(a2)"
   ]
  },
  {
   "cell_type": "markdown",
   "metadata": {
    "id": "emV7DgrITPcn"
   },
   "source": [
    "### 배열 값 삭제\n",
    "\n",
    "* `delete()`: 배열의 특정 위치에 값 삭제\n",
    "* axis를 지정하지 않으면 1차원 배열로 변환\n",
    "* 삭제할 방향을 axis로 지정\n",
    "* 원본 배열 변경없이 새로운 배열 반환"
   ]
  },
  {
   "cell_type": "code",
   "execution_count": 123,
   "metadata": {
    "id": "I3k_Yx8lTRJ2"
   },
   "outputs": [
    {
     "name": "stdout",
     "output_type": "stream",
     "text": [
      "[78  4 31  4  4]\n",
      "--------------\n",
      "[78 31  4  4]\n"
     ]
    }
   ],
   "source": [
    "print(a1) # 원본배열은 변경이 되지 않았다.\n",
    "b1 = np.delete(a1,1) # a1에서 첫 번째 것을 삭제해줘\n",
    "print('--------------')\n",
    "print(b1)"
   ]
  },
  {
   "cell_type": "code",
   "execution_count": 126,
   "metadata": {
    "id": "tRTwMIfJTq_y"
   },
   "outputs": [
    {
     "name": "stdout",
     "output_type": "stream",
     "text": [
      "[[ 1  1  1]\n",
      " [ 4  2 19]\n",
      " [ 7  8 19]]\n",
      "--------------\n",
      "[[ 1  1  1]\n",
      " [ 7  8 19]]\n",
      "--------------\n",
      "[[ 1  1]\n",
      " [ 4 19]\n",
      " [ 7 19]]\n"
     ]
    }
   ],
   "source": [
    "print(a2)\n",
    "b2 = np.delete(a2,1,axis = 0)\n",
    "c2 = np.delete(a2,1,axis = 1)\n",
    "print('--------------')\n",
    "print(b2)\n",
    "print('--------------')\n",
    "print(c2)"
   ]
  },
  {
   "cell_type": "markdown",
   "metadata": {
    "id": "UydkYxV8Z6Fx"
   },
   "source": [
    "### 배열 복사\n",
    "\n",
    "* 리스트 자료형과 달리 배열의 슬라이스는 복사본이 아님"
   ]
  },
  {
   "cell_type": "code",
   "execution_count": 140,
   "metadata": {
    "id": "n2_0L8KWZ7wH"
   },
   "outputs": [
    {
     "name": "stdout",
     "output_type": "stream",
     "text": [
      "[[ 1 33  1]\n",
      " [ 4 33 19]\n",
      " [ 7  8 19]]\n",
      "--------------\n",
      "[[ 1 33]\n",
      " [ 4 33]]\n",
      "--------------\n",
      "[[ 1 33]\n",
      " [ 4 33]]\n",
      "--------------\n",
      "[[ 1 33]\n",
      " [ 4 33]]\n",
      "--------------\n",
      "[[ 1 33  1]\n",
      " [ 4 33 19]\n",
      " [ 7  8 19]]\n"
     ]
    }
   ],
   "source": [
    "print(a2)\n",
    "print('--------------')\n",
    "print(a2[:2,:2])\n",
    "print('--------------')\n",
    "a2_sub = a2[:2,:2]\n",
    "print(a2_sub)\n",
    "a2_sub[:,1] = 33\n",
    "print('--------------')\n",
    "print(a2_sub)\n",
    "print('--------------')\n",
    "print(a2) # 원본 배열도 바뀜 / 카피를 안 붙이면 그대로 원본도 바뀜"
   ]
  },
  {
   "cell_type": "markdown",
   "metadata": {
    "id": "UrQqOC1Eat5l"
   },
   "source": [
    "\n",
    "* `copy()`: 배열이나 하위 배열 내의 값을 명시적으로 복사"
   ]
  },
  {
   "cell_type": "code",
   "execution_count": 144,
   "metadata": {
    "id": "hLBZ7Qn6bAKO"
   },
   "outputs": [
    {
     "name": "stdout",
     "output_type": "stream",
     "text": [
      "[[ 1 33  1]\n",
      " [ 4 33 19]\n",
      " [ 7  8 19]]\n",
      "--------------\n",
      "[[ 1 33]\n",
      " [ 4 33]]\n",
      "--------------\n",
      "[[ 1 23]\n",
      " [ 4 23]]\n",
      "--------------\n",
      "[[ 1 33  1]\n",
      " [ 4 33 19]\n",
      " [ 7  8 19]]\n"
     ]
    }
   ],
   "source": [
    " print(a2)\n",
    "print('--------------')\n",
    "a2_sub_copy = a2[:2,:2].copy()\n",
    "print(a2_sub_copy)\n",
    "print('--------------')\n",
    "a2_sub_copy[:,1] =23\n",
    "print(a2_sub_copy)\n",
    "print('--------------')\n",
    "print(a2) # 원본은 23으로 바뀌지 않음"
   ]
  },
  {
   "cell_type": "markdown",
   "metadata": {
    "id": "4HTc9FXOGtA7"
   },
   "source": [
    "\n",
    "\n",
    "---\n",
    "\n"
   ]
  },
  {
   "cell_type": "markdown",
   "metadata": {
    "id": "XVZY082__yV6"
   },
   "source": [
    "## 배열 변환"
   ]
  },
  {
   "cell_type": "markdown",
   "metadata": {
    "id": "Ec09aPeBO58M"
   },
   "source": [
    "### 배열 전치 및 축 변경"
   ]
  },
  {
   "cell_type": "code",
   "execution_count": 146,
   "metadata": {
    "id": "anYByBpoWZmj"
   },
   "outputs": [
    {
     "name": "stdout",
     "output_type": "stream",
     "text": [
      "[[ 1 33  1]\n",
      " [ 4 33 19]\n",
      " [ 7  8 19]]\n",
      "[[ 1  4  7]\n",
      " [33 33  8]\n",
      " [ 1 19 19]]\n"
     ]
    }
   ],
   "source": [
    "print(a2)\n",
    "print('--------------')\n",
    "print(a2.T) # 행과 열이 전치가 된다."
   ]
  },
  {
   "cell_type": "code",
   "execution_count": 147,
   "metadata": {
    "id": "wg4XC6kiRnZo"
   },
   "outputs": [
    {
     "name": "stdout",
     "output_type": "stream",
     "text": [
      "[[[  1   2   3]\n",
      "  [  5   6   7]\n",
      "  [ 43   5  65]]\n",
      "\n",
      " [[  1   3   0]\n",
      "  [ 50  65   7]\n",
      "  [  3   5  65]]\n",
      "\n",
      " [[  1 203   3]\n",
      "  [556   6   7]\n",
      "  [  4 556 615]]]\n",
      "--------------\n",
      "[[[  1   1   1]\n",
      "  [  5  50 556]\n",
      "  [ 43   3   4]]\n",
      "\n",
      " [[  2   3 203]\n",
      "  [  6  65   6]\n",
      "  [  5   5 556]]\n",
      "\n",
      " [[  3   0   3]\n",
      "  [  7   7   7]\n",
      "  [ 65  65 615]]]\n"
     ]
    }
   ],
   "source": [
    "print(a3)\n",
    "print('--------------')\n",
    "print(a3.T)"
   ]
  },
  {
   "cell_type": "code",
   "execution_count": 149,
   "metadata": {
    "id": "6lPwXL8rRTfI"
   },
   "outputs": [
    {
     "name": "stdout",
     "output_type": "stream",
     "text": [
      "[[ 1 33  1]\n",
      " [ 4 33 19]\n",
      " [ 7  8 19]]\n",
      "--------------\n",
      "[[ 1  4  7]\n",
      " [33 33  8]\n",
      " [ 1 19 19]]\n"
     ]
    }
   ],
   "source": [
    "print(a2)\n",
    "print('--------------')\n",
    "print(a2.swapaxes(1,0)) # Transport와 똑같은 결과물이 만들어진다."
   ]
  },
  {
   "cell_type": "code",
   "execution_count": 153,
   "metadata": {
    "id": "oLbEHtijRewH"
   },
   "outputs": [
    {
     "name": "stdout",
     "output_type": "stream",
     "text": [
      "[[[  1   2   3]\n",
      "  [  5   6   7]\n",
      "  [ 43   5  65]]\n",
      "\n",
      " [[  1   3   0]\n",
      "  [ 50  65   7]\n",
      "  [  3   5  65]]\n",
      "\n",
      " [[  1 203   3]\n",
      "  [556   6   7]\n",
      "  [  4 556 615]]]\n",
      "--------------\n",
      "[[[  1   2   3]\n",
      "  [  1   3   0]\n",
      "  [  1 203   3]]\n",
      "\n",
      " [[  5   6   7]\n",
      "  [ 50  65   7]\n",
      "  [556   6   7]]\n",
      "\n",
      " [[ 43   5  65]\n",
      "  [  3   5  65]\n",
      "  [  4 556 615]]]\n",
      "--------------\n",
      "[[[  1   5  43]\n",
      "  [  2   6   5]\n",
      "  [  3   7  65]]\n",
      "\n",
      " [[  1  50   3]\n",
      "  [  3  65   5]\n",
      "  [  0   7  65]]\n",
      "\n",
      " [[  1 556   4]\n",
      "  [203   6 556]\n",
      "  [  3   7 615]]]\n"
     ]
    }
   ],
   "source": [
    "print(a3)\n",
    "print('--------------')\n",
    "print(a3.swapaxes(0,1))\n",
    "print('--------------')\n",
    "print(a3.swapaxes(1,2))"
   ]
  },
  {
   "cell_type": "markdown",
   "metadata": {
    "id": "M7xN8WdOdb_S"
   },
   "source": [
    "### 배열 재구조화\n"
   ]
  },
  {
   "cell_type": "markdown",
   "metadata": {
    "id": "JwZJMpXGfY0V"
   },
   "source": [
    "* `reshape()`: 배열의 형상을 변경"
   ]
  },
  {
   "cell_type": "code",
   "execution_count": 155,
   "metadata": {
    "id": "SlGQ17VQdd8i"
   },
   "outputs": [
    {
     "name": "stdout",
     "output_type": "stream",
     "text": [
      "[1 2 3 4 5 6 7 8 9]\n",
      "--------------\n",
      "[[1 2 3]\n",
      " [4 5 6]\n",
      " [7 8 9]]\n"
     ]
    }
   ],
   "source": [
    "n1 = np.arange(1,10)\n",
    "print(n1)\n",
    "print('--------------')\n",
    "print(n1.reshape(3,3)) # 1차원 배열을 2차원으로 바꿈"
   ]
  },
  {
   "cell_type": "markdown",
   "metadata": {
    "id": "y_U1W-fQfuQY"
   },
   "source": [
    "* `newaxis()`: 새로운 축 추가"
   ]
  },
  {
   "cell_type": "code",
   "execution_count": 156,
   "metadata": {
    "id": "COif_weCfkGo"
   },
   "outputs": [
    {
     "name": "stdout",
     "output_type": "stream",
     "text": [
      "[1 2 3 4 5 6 7 8 9]\n",
      "--------------\n",
      "[[1 2 3 4 5]]\n",
      "--------------\n",
      "[[1]\n",
      " [2]\n",
      " [3]\n",
      " [4]\n",
      " [5]]\n"
     ]
    }
   ],
   "source": [
    "print(n1)\n",
    "print('--------------') \n",
    "print(n1[np.newaxis,:5]) # row로 축 추가\n",
    "print('--------------')\n",
    "print(n1[:5,np.newaxis]) # col로 축 추가"
   ]
  },
  {
   "cell_type": "markdown",
   "metadata": {
    "id": "FR82RSDggbcJ"
   },
   "source": [
    "### 배열 크기 변경"
   ]
  },
  {
   "cell_type": "markdown",
   "metadata": {
    "id": "D1LuDMVFl4tc"
   },
   "source": [
    "* 배열 모양만 변경"
   ]
  },
  {
   "cell_type": "code",
   "execution_count": 158,
   "metadata": {
    "id": "7B6pHlfxgdSJ"
   },
   "outputs": [
    {
     "name": "stdout",
     "output_type": "stream",
     "text": [
      "[[9 6 3 7 2]\n",
      " [2 1 0 0 6]]\n",
      "--------------\n",
      "[[9 6]\n",
      " [3 7]\n",
      " [2 2]\n",
      " [1 0]\n",
      " [0 6]]\n"
     ]
    }
   ],
   "source": [
    "n2 = np.random.randint(0,10,(2,5))\n",
    "print(n2)\n",
    "print('--------------')\n",
    "n2.resize((5,2)) #배열의 모양이 바뀜\n",
    "print(n2)"
   ]
  },
  {
   "cell_type": "markdown",
   "metadata": {
    "id": "s0adm-h9l6sv"
   },
   "source": [
    "* 배열 크기 증가\n",
    "* 남은 공간은 0으로 채워짐"
   ]
  },
  {
   "cell_type": "code",
   "execution_count": 160,
   "metadata": {
    "id": "IrX0UcjrlWRV"
   },
   "outputs": [
    {
     "name": "stdout",
     "output_type": "stream",
     "text": [
      "[[9 6 3 7 2]\n",
      " [2 1 0 0 6]\n",
      " [0 0 0 0 0]\n",
      " [0 0 0 0 0]\n",
      " [0 0 0 0 0]]\n"
     ]
    }
   ],
   "source": [
    "n2.resize((5,5))\n",
    "print(n2) # 나머지 공간은 0으로 채워진다."
   ]
  },
  {
   "cell_type": "markdown",
   "metadata": {
    "id": "78hPDEzfl9JB"
   },
   "source": [
    "* 배열 크기 감소\n",
    "* 포함되지 않은 값은 삭제됨"
   ]
  },
  {
   "cell_type": "code",
   "execution_count": 161,
   "metadata": {
    "id": "fJWrwhc6lmjW"
   },
   "outputs": [
    {
     "name": "stdout",
     "output_type": "stream",
     "text": [
      "[[9 6 3]\n",
      " [7 2 2]\n",
      " [1 0 0]]\n"
     ]
    }
   ],
   "source": [
    "n2.resize((3,3))\n",
    "print(n2)"
   ]
  },
  {
   "cell_type": "markdown",
   "metadata": {
    "id": "r9z2gD_pHyx9"
   },
   "source": [
    "### 배열 추가\n",
    "\n",
    "* `append()`: 배열의 끝에 값 추가"
   ]
  },
  {
   "cell_type": "code",
   "execution_count": 164,
   "metadata": {
    "id": "fH4lpQKNH5s1"
   },
   "outputs": [
    {
     "name": "stdout",
     "output_type": "stream",
     "text": [
      "[[1 2 3]\n",
      " [4 5 6]\n",
      " [7 8 9]]\n",
      "--------------\n",
      "[[10 11 12]\n",
      " [13 14 15]\n",
      " [16 17 18]]\n"
     ]
    }
   ],
   "source": [
    "a2 = np.arange(1,10).reshape(3,3)\n",
    "print(a2)\n",
    "print('--------------')\n",
    "b2 = np.arange(10,19).reshape(3,3)\n",
    "print(b2)"
   ]
  },
  {
   "cell_type": "markdown",
   "metadata": {
    "id": "n8SMl5VVIquk"
   },
   "source": [
    "* axis 지정이 없으면 1차원 배열 형태로 변형되어 결합"
   ]
  },
  {
   "cell_type": "code",
   "execution_count": 165,
   "metadata": {
    "id": "LRltk3yFIVsV"
   },
   "outputs": [
    {
     "name": "stdout",
     "output_type": "stream",
     "text": [
      "[ 1  2  3  4  5  6  7  8  9 10 11 12 13 14 15 16 17 18]\n"
     ]
    }
   ],
   "source": [
    "c2= np.append(a2,b2)\n",
    "print(c2)# 2차원 배열이 1차원 배열로 변형이 됨.\n"
   ]
  },
  {
   "cell_type": "markdown",
   "metadata": {
    "id": "sVW2UFVZJfpR"
   },
   "source": [
    "* axis를 0으로 지정\n",
    "* shape[0]을 제외한 나머지 shape은 같아야 함"
   ]
  },
  {
   "cell_type": "code",
   "execution_count": 166,
   "metadata": {
    "id": "nwJ4xLOeIbMg"
   },
   "outputs": [
    {
     "name": "stdout",
     "output_type": "stream",
     "text": [
      "[[ 1  2  3]\n",
      " [ 4  5  6]\n",
      " [ 7  8  9]\n",
      " [10 11 12]\n",
      " [13 14 15]\n",
      " [16 17 18]]\n"
     ]
    }
   ],
   "source": [
    "c2= np.append(a2,b2, axis = 0)\n",
    "print(c2)"
   ]
  },
  {
   "cell_type": "markdown",
   "metadata": {
    "id": "4YXxzygaJmj-"
   },
   "source": [
    "* axis를 1로 지정\n",
    "* shape[1]을 제외한 나머지 shape은 같아야 함"
   ]
  },
  {
   "cell_type": "code",
   "execution_count": 167,
   "metadata": {
    "id": "JYE4_5gAJmYe"
   },
   "outputs": [
    {
     "name": "stdout",
     "output_type": "stream",
     "text": [
      "[[ 1  2  3 10 11 12]\n",
      " [ 4  5  6 13 14 15]\n",
      " [ 7  8  9 16 17 18]]\n"
     ]
    }
   ],
   "source": [
    "c2= np.append(a2,b2, axis = 1)\n",
    "print(c2)"
   ]
  },
  {
   "cell_type": "markdown",
   "metadata": {
    "id": "9sTza3b2hoe4"
   },
   "source": [
    "### 배열 연결"
   ]
  },
  {
   "cell_type": "markdown",
   "metadata": {
    "id": "TRun2NPYj8Ct"
   },
   "source": [
    "* `concatenate()`: 튜플이나 배열의 리스트를 인수로 사용해 배열 연결"
   ]
  },
  {
   "cell_type": "code",
   "execution_count": 168,
   "metadata": {
    "id": "lmEqdPifhrB_"
   },
   "outputs": [
    {
     "data": {
      "text/plain": [
       "array([1, 3, 5, 2, 4, 6])"
      ]
     },
     "execution_count": 168,
     "metadata": {},
     "output_type": "execute_result"
    }
   ],
   "source": [
    "a1 = np.array([1,3,5])\n",
    "b1 = np.array([2,4,6])\n",
    "np.concatenate([a1,b1])"
   ]
  },
  {
   "cell_type": "code",
   "execution_count": 172,
   "metadata": {
    "id": "vX0SCYX3lEs2"
   },
   "outputs": [
    {
     "data": {
      "text/plain": [
       "array([[12,  3,  4, 12,  3,  4],\n",
       "       [ 7,  5,  6,  7,  5,  6]])"
      ]
     },
     "execution_count": 172,
     "metadata": {},
     "output_type": "execute_result"
    }
   ],
   "source": [
    "a2 = np.array([[12,3,4],\n",
    "             [7,5,6]])\n",
    "np.concatenate([a2,a2], axis = 1)"
   ]
  },
  {
   "cell_type": "markdown",
   "metadata": {
    "id": "eYz74NYKo8iH"
   },
   "source": [
    "### 배열 분할"
   ]
  },
  {
   "cell_type": "markdown",
   "metadata": {
    "id": "wjt2zku5pBmF"
   },
   "source": [
    "* `split()`: 배열 분할"
   ]
  },
  {
   "cell_type": "code",
   "execution_count": 174,
   "metadata": {
    "id": "H_2e71heo-Eq"
   },
   "outputs": [
    {
     "name": "stdout",
     "output_type": "stream",
     "text": [
      "[0 1 2 3 4 5 6 7 8 9]\n",
      "--------------\n",
      "[0 1 2 3 4] [5 6 7 8 9]\n",
      "--------------\n",
      "[0 1] [2 3] [4] [5 6 7] [8 9]\n"
     ]
    }
   ],
   "source": [
    "a1 = np.arange(0,10)\n",
    "print(a1)\n",
    "b1 ,c1 = np.split(a1,[5])\n",
    "print('--------------')\n",
    "print(b1,c1)\n",
    "b1, c1, d1, e1, f1 = np.split(a1,[2,4,5,8])\n",
    "print('--------------')\n",
    "print(b1,c1,d1,e1,f1)"
   ]
  },
  {
   "cell_type": "markdown",
   "metadata": {
    "id": "rK-zrDZuGoVd"
   },
   "source": [
    "\n",
    "\n",
    "---\n",
    "\n"
   ]
  },
  {
   "cell_type": "markdown",
   "metadata": {
    "id": "Vc-iSWewJ3C1"
   },
   "source": [
    "## 배열 연산\n",
    "\n",
    "* NumPy의 배열 연산은 벡터화(vectorized) 연산을 사용\n",
    "* 일반적으로 NumPy의 범용 함수(universal functions)를 통해 구현\n",
    "* 배열 요소에 대한 반복적인 계산을 효율적으로 수행"
   ]
  },
  {
   "cell_type": "markdown",
   "metadata": {
    "id": "Pg2er1A2w3cz"
   },
   "source": [
    "### 브로드캐스팅(Broadcasting)"
   ]
  },
  {
   "cell_type": "code",
   "execution_count": 182,
   "metadata": {
    "id": "IGU-HRgr20nj"
   },
   "outputs": [
    {
     "name": "stdout",
     "output_type": "stream",
     "text": [
      "[1 2 3]\n",
      "[6 7 8]\n",
      "--------------\n",
      "[[1 2 3]\n",
      " [4 5 6]\n",
      " [7 8 9]]\n",
      "--------------\n",
      "[[ 2  4  6]\n",
      " [ 5  7  9]\n",
      " [ 8 10 12]]\n"
     ]
    }
   ],
   "source": [
    "a1 = np.array([1,2,3])\n",
    "print(a1)\n",
    "print(a1+5)\n",
    "print('--------------')\n",
    "\n",
    "a2 = np.arange(1,10).reshape(3,3)\n",
    "print(a2)\n",
    "print('--------------')\n",
    "print(a1+a2)"
   ]
  },
  {
   "cell_type": "code",
   "execution_count": null,
   "metadata": {
    "id": "IAzsmIAn1HNt"
   },
   "outputs": [],
   "source": []
  },
  {
   "cell_type": "markdown",
   "metadata": {
    "id": "NZzLHHLmwl_b"
   },
   "source": [
    "### 산술 연산(Arithmetic Operators)"
   ]
  },
  {
   "cell_type": "code",
   "execution_count": 190,
   "metadata": {
    "id": "jHrIjHGEi05k"
   },
   "outputs": [
    {
     "name": "stdout",
     "output_type": "stream",
     "text": [
      "[1 2 3 4 5 6 7 8 9]\n",
      "--------------\n",
      "[ 2  3  4  5  6  7  8  9 10]\n",
      "--------------\n",
      "[11 12 13 14 15 16 17 18 19]\n",
      "--------------\n",
      "[-9 -8 -7 -6 -5 -4 -3 -2 -1]\n",
      "--------------\n",
      "[10 20 30 40 50 60 70 80 90]\n",
      "--------------\n",
      "[0.25 0.5  0.75 1.   1.25 1.5  1.75 2.   2.25]\n"
     ]
    }
   ],
   "source": [
    "a1 = np.arange(1,10)\n",
    "print(a1)\n",
    "print('--------------') \n",
    "print(np.add(a1,10)) # 덧셈\n",
    "print('--------------')\n",
    "print(np.subtract(a1,10)) # 마이너스\n",
    "print('--------------')\n",
    "print(np.multiply(a1,10)) # 곱셈\n",
    "print('--------------')\n",
    "print(np.divide(a1,4)) # 나눗셈"
   ]
  },
  {
   "cell_type": "markdown",
   "metadata": {
    "id": "hKJtYUVWwxQy"
   },
   "source": [
    "### 집계 함수(Aggregate Functions)"
   ]
  },
  {
   "cell_type": "markdown",
   "metadata": {
    "id": "GdxMrX5l9m6W"
   },
   "source": [
    "#### sum(): 합 계산"
   ]
  },
  {
   "cell_type": "code",
   "execution_count": 194,
   "metadata": {
    "id": "AJQ3GjLI0cZU"
   },
   "outputs": [
    {
     "name": "stdout",
     "output_type": "stream",
     "text": [
      "[[2 2 5]\n",
      " [2 7 5]\n",
      " [8 9 9]]\n",
      "--------------\n",
      "49 49\n",
      "--------------\n",
      "[12 18 19] [12 18 19]\n",
      "--------------\n",
      "[12 18 19] [ 9 14 26]\n"
     ]
    }
   ],
   "source": [
    "a2 = np.random.randint(1,10,size = (3,3))\n",
    "print(a2)\n",
    "print('--------------')\n",
    "print(a2.sum(),np.sum(a2))\n",
    "print('--------------')\n",
    "print(a2.sum(axis=0),np.sum(a2,axis = 0))\n",
    "print('--------------')\n",
    "print(a2.sum(axis=0),np.sum(a2,axis = 1))"
   ]
  },
  {
   "cell_type": "markdown",
   "metadata": {
    "id": "b6I38HfA9vGL"
   },
   "source": [
    "#### prod(): 곱 계산"
   ]
  },
  {
   "cell_type": "code",
   "execution_count": 195,
   "metadata": {
    "id": "rGPMXGe89y0O"
   },
   "outputs": [
    {
     "name": "stdout",
     "output_type": "stream",
     "text": [
      "[[2 2 5]\n",
      " [2 7 5]\n",
      " [8 9 9]]\n",
      "--------------\n",
      "[ 32 126 225]\n",
      "--------------\n",
      "[ 20  70 648]\n"
     ]
    }
   ],
   "source": [
    "print(a2)\n",
    "print('--------------')\n",
    "print(np.prod(a2,axis = 0))\n",
    "print('--------------')\n",
    "print(np.prod(a2,axis = 1))"
   ]
  },
  {
   "cell_type": "markdown",
   "metadata": {
    "id": "9CIotQgI_RQ-"
   },
   "source": [
    "#### mean(): 평균 계산"
   ]
  },
  {
   "cell_type": "code",
   "execution_count": 197,
   "metadata": {
    "id": "g96wAEOT_bUk"
   },
   "outputs": [
    {
     "name": "stdout",
     "output_type": "stream",
     "text": [
      "[[2 2 5]\n",
      " [2 7 5]\n",
      " [8 9 9]]\n",
      "--------------\n",
      "5.444444444444445\n",
      "--------------\n",
      "[4.         6.         6.33333333]\n",
      "--------------\n",
      "[3.         4.66666667 8.66666667]\n"
     ]
    }
   ],
   "source": [
    "print(a2)\n",
    "print('--------------')\n",
    "print(np.mean(a2))\n",
    "print('--------------')\n",
    "print(np.mean(a2, axis = 0))\n",
    "print('--------------')\n",
    "print(np.mean(a2, axis = 1))"
   ]
  },
  {
   "cell_type": "markdown",
   "metadata": {
    "id": "QFeh-4tmCCrU"
   },
   "source": [
    "#### min(): 최소값"
   ]
  },
  {
   "cell_type": "code",
   "execution_count": 198,
   "metadata": {
    "id": "SMNCfYBQCEtf"
   },
   "outputs": [
    {
     "name": "stdout",
     "output_type": "stream",
     "text": [
      "[[2 2 5]\n",
      " [2 7 5]\n",
      " [8 9 9]]\n",
      "--------------\n",
      "2\n",
      "--------------\n",
      "[2 2 5]\n",
      "--------------\n",
      "[2 2 8]\n"
     ]
    }
   ],
   "source": [
    "print(a2)\n",
    "print('--------------')\n",
    "print(np.min(a2))\n",
    "print('--------------')\n",
    "print(np.min(a2, axis = 0))\n",
    "print('--------------')\n",
    "print(np.min(a2, axis = 1))"
   ]
  },
  {
   "cell_type": "markdown",
   "metadata": {
    "id": "A3n_JBnBJ2bo"
   },
   "source": [
    "#### max(): 최대값"
   ]
  },
  {
   "cell_type": "code",
   "execution_count": null,
   "metadata": {
    "id": "FmuOFKGAJ6Pf"
   },
   "outputs": [],
   "source": [
    "print(a2)\n",
    "print('--------------')\n",
    "print(np.max(a2))\n",
    "print('--------------')\n",
    "print(np.max(a2, axis = 0))\n",
    "print('--------------')\n",
    "print(np.max(a2, axis = 1))"
   ]
  },
  {
   "cell_type": "markdown",
   "metadata": {
    "id": "3TjeNFQLKuZb"
   },
   "source": [
    "#### median(): 중앙값"
   ]
  },
  {
   "cell_type": "code",
   "execution_count": 199,
   "metadata": {
    "id": "kSLN17bpKwv6"
   },
   "outputs": [
    {
     "name": "stdout",
     "output_type": "stream",
     "text": [
      "[[2 2 5]\n",
      " [2 7 5]\n",
      " [8 9 9]]\n",
      "--------------\n",
      "5.0\n",
      "--------------\n",
      "[2. 7. 5.]\n",
      "--------------\n",
      "[2. 5. 9.]\n"
     ]
    }
   ],
   "source": [
    "print(a2)\n",
    "print('--------------')\n",
    "print(np.median(a2))\n",
    "print('--------------')\n",
    "print(np.median(a2, axis = 0))\n",
    "print('--------------')\n",
    "print(np.median(a2, axis = 1))"
   ]
  },
  {
   "cell_type": "markdown",
   "metadata": {
    "id": "df-Id-nhLs3L"
   },
   "source": [
    "#### percentile(): 백분위 수\n",
    "\n"
   ]
  },
  {
   "cell_type": "code",
   "execution_count": 206,
   "metadata": {
    "id": "N-TCx9hnLvhK"
   },
   "outputs": [
    {
     "name": "stdout",
     "output_type": "stream",
     "text": [
      "[0 1 2 3]\n",
      "--------------\n",
      "[0.  0.6 1.2 1.8 2.4 3. ]\n",
      "--------------\n",
      "[0 1 2 2 3 3]\n",
      "--------------\n",
      "[0 0 1 1 2 3]\n",
      "--------------\n",
      "[0 1 1 2 2 3]\n",
      "--------------\n",
      "[0.  0.5 1.5 1.5 2.5 3. ]\n"
     ]
    },
    {
     "name": "stderr",
     "output_type": "stream",
     "text": [
      "C:\\Users\\user\\AppData\\Local\\Temp\\ipykernel_16832\\3173656720.py:4: DeprecationWarning: the `interpolation=` argument to percentile was renamed to `method=`, which has additional options.\n",
      "Users of the modes 'nearest', 'lower', 'higher', or 'midpoint' are encouraged to review the method they used. (Deprecated NumPy 1.22)\n",
      "  print(np.percentile(a1,[0,20,40,60,80,100],interpolation = 'linear'))\n",
      "C:\\Users\\user\\AppData\\Local\\Temp\\ipykernel_16832\\3173656720.py:6: DeprecationWarning: the `interpolation=` argument to percentile was renamed to `method=`, which has additional options.\n",
      "Users of the modes 'nearest', 'lower', 'higher', or 'midpoint' are encouraged to review the method they used. (Deprecated NumPy 1.22)\n",
      "  print(np.percentile(a1,[0,20,40,60,80,100],interpolation = 'higher'))\n",
      "C:\\Users\\user\\AppData\\Local\\Temp\\ipykernel_16832\\3173656720.py:8: DeprecationWarning: the `interpolation=` argument to percentile was renamed to `method=`, which has additional options.\n",
      "Users of the modes 'nearest', 'lower', 'higher', or 'midpoint' are encouraged to review the method they used. (Deprecated NumPy 1.22)\n",
      "  print(np.percentile(a1,[0,20,40,60,80,100],interpolation = 'lower'))\n",
      "C:\\Users\\user\\AppData\\Local\\Temp\\ipykernel_16832\\3173656720.py:10: DeprecationWarning: the `interpolation=` argument to percentile was renamed to `method=`, which has additional options.\n",
      "Users of the modes 'nearest', 'lower', 'higher', or 'midpoint' are encouraged to review the method they used. (Deprecated NumPy 1.22)\n",
      "  print(np.percentile(a1,[0,20,40,60,80,100],interpolation = 'nearest'))\n",
      "C:\\Users\\user\\AppData\\Local\\Temp\\ipykernel_16832\\3173656720.py:12: DeprecationWarning: the `interpolation=` argument to percentile was renamed to `method=`, which has additional options.\n",
      "Users of the modes 'nearest', 'lower', 'higher', or 'midpoint' are encouraged to review the method they used. (Deprecated NumPy 1.22)\n",
      "  print(np.percentile(a1,[0,20,40,60,80,100],interpolation = 'midpoint'))\n"
     ]
    }
   ],
   "source": [
    "a1 = np.array([0,1,2,3])\n",
    "print(a1)\n",
    "print('--------------')\n",
    "print(np.percentile(a1,[0,20,40,60,80,100],interpolation = 'linear'))\n",
    "print('--------------')\n",
    "print(np.percentile(a1,[0,20,40,60,80,100],interpolation = 'higher'))\n",
    "print('--------------')\n",
    "print(np.percentile(a1,[0,20,40,60,80,100],interpolation = 'lower'))\n",
    "print('--------------')\n",
    "print(np.percentile(a1,[0,20,40,60,80,100],interpolation = 'nearest'))\n",
    "print('--------------')\n",
    "print(np.percentile(a1,[0,20,40,60,80,100],interpolation = 'midpoint'))\n"
   ]
  },
  {
   "cell_type": "markdown",
   "metadata": {
    "id": "x0NnNsvvNDIs"
   },
   "source": [
    "#### any()"
   ]
  },
  {
   "cell_type": "code",
   "execution_count": 208,
   "metadata": {
    "id": "I1XDqsFxOMvA"
   },
   "outputs": [
    {
     "name": "stdout",
     "output_type": "stream",
     "text": [
      "[[False False False]\n",
      " [ True  True  True]\n",
      " [False  True False]]\n",
      "--------------\n",
      "True\n",
      "--------------\n",
      "[ True  True  True]\n",
      "--------------\n",
      "[False  True  True]\n"
     ]
    }
   ],
   "source": [
    "a2 = np.array([[False,False,False],\n",
    "             [True,True,True],\n",
    "             [False,True,False]])\n",
    "print(a2)\n",
    "print('--------------') # any 는 이 중 하나라도 트루이면 트루이다.\n",
    "print(np.any(a2))\n",
    "print('--------------')\n",
    "print(np.any(a2, axis = 0))\n",
    "print('--------------')\n",
    "print(np.any(a2, axis = 1))"
   ]
  },
  {
   "cell_type": "markdown",
   "metadata": {
    "id": "Uw-wjYgyONBZ"
   },
   "source": [
    "#### all()"
   ]
  },
  {
   "cell_type": "code",
   "execution_count": 211,
   "metadata": {
    "id": "sXi2AHOHONYq"
   },
   "outputs": [
    {
     "name": "stdout",
     "output_type": "stream",
     "text": [
      "[[False False  True]\n",
      " [ True  True  True]\n",
      " [False  True  True]]\n",
      "--------------\n",
      "False\n",
      "--------------\n",
      "[False False  True]\n",
      "--------------\n",
      "[False  True False]\n"
     ]
    }
   ],
   "source": [
    "a2 = np.array([[False,False,True],\n",
    "             [True,True,True],\n",
    "             [False,True,True]])\n",
    "print(a2)\n",
    "print('--------------') # all은 전부 트루여야 트루이다.\n",
    "print(np.all(a2))\n",
    "print('--------------')\n",
    "print(np.all(a2, axis = 0))\n",
    "print('--------------')\n",
    "print(np.all(a2, axis = 1))"
   ]
  },
  {
   "cell_type": "markdown",
   "metadata": {
    "id": "0n7lgzmUwqr1"
   },
   "source": [
    "### 비교 연산(Comparison Operators)\n"
   ]
  },
  {
   "cell_type": "code",
   "execution_count": 213,
   "metadata": {
    "id": "E00V-nBTVnCu"
   },
   "outputs": [
    {
     "name": "stdout",
     "output_type": "stream",
     "text": [
      "[1 2 3 4 5 6 7 8 9]\n",
      "--------------\n",
      "[False False False False  True False False False False]\n",
      "--------------\n",
      "[ True  True  True  True False  True  True  True  True]\n",
      "--------------\n",
      "[False False False False  True  True  True  True  True]\n",
      "--------------\n",
      "[ True  True  True  True  True False False False False]\n"
     ]
    }
   ],
   "source": [
    "a1 = np.arange(1,10)\n",
    "print(a1)\n",
    "print('--------------')\n",
    "print(a1==5) # 해당하는 비교연산자의 T/F를 나타냄\n",
    "print('--------------')\n",
    "print(a1 != 5)\n",
    "print('--------------')\n",
    "print(a1 >=5)\n",
    "print('--------------')\n",
    "print(a1<= 5)"
   ]
  },
  {
   "cell_type": "markdown",
   "metadata": {
    "id": "4BHMetMlYmt-"
   },
   "source": [
    "#### 불리언 연산자(Boolean Operators)\n"
   ]
  },
  {
   "cell_type": "code",
   "execution_count": 217,
   "metadata": {
    "id": "ZV1-8DkUHOZq"
   },
   "outputs": [
    {
     "name": "stdout",
     "output_type": "stream",
     "text": [
      "[[1 2 3]\n",
      " [4 5 6]\n",
      " [7 8 9]]\n",
      "--------------\n",
      "[[False False False]\n",
      " [False False  True]\n",
      " [ True False False]]\n",
      "--------------\n",
      "[[ True  True  True]\n",
      " [ True  True  True]\n",
      " [ True  True  True]]\n"
     ]
    }
   ],
   "source": [
    "a2 = np.arange(1,10).reshape(3,3)\n",
    "print(a2)\n",
    "print('--------------')\n",
    "print((a2> 5) & (a2< 8))\n",
    "print('--------------')\n",
    "print((a2>) | (a2<8))"
   ]
  },
  {
   "cell_type": "markdown",
   "metadata": {
    "id": "FlQJVeGBxIFw"
   },
   "source": [
    "### 배열 정렬"
   ]
  },
  {
   "cell_type": "code",
   "execution_count": 219,
   "metadata": {
    "id": "x0sodUMqLU37"
   },
   "outputs": [
    {
     "name": "stdout",
     "output_type": "stream",
     "text": [
      "[1 5 8 5 6 2 1 5 8 5]\n",
      "--------------\n",
      "[1 1 2 5 5 5 5 6 8 8]\n",
      "--------------\n",
      "[1 5 8 5 6 2 1 5 8 5]\n",
      "--------------\n",
      "[0 6 5 1 3 7 9 4 2 8]\n",
      "--------------\n",
      "[1 5 8 5 6 2 1 5 8 5]\n"
     ]
    }
   ],
   "source": [
    "a1 = np.random.randint(1,10,size = 10)\n",
    "print(a1)\n",
    "print('--------------')\n",
    "print(np.sort(a1))\n",
    "print('--------------')\n",
    "print(a1)\n",
    "print('--------------')\n",
    "print(np.argsort(a1))\n",
    "print('--------------')\n",
    "print(a1)"
   ]
  },
  {
   "cell_type": "markdown",
   "metadata": {
    "id": "yYSItPz_00sZ"
   },
   "source": [
    "#### 부분 정렬\n",
    "\n",
    "* `partition()`: 배열에서 k개의 작은 값을 반환"
   ]
  },
  {
   "cell_type": "code",
   "execution_count": 221,
   "metadata": {
    "id": "QQwov4N00YFP"
   },
   "outputs": [
    {
     "name": "stdout",
     "output_type": "stream",
     "text": [
      "[9 8 8 3 3 3 4 2 5 5]\n",
      "--------------\n",
      "[2 3 3 3 4 5 5 8 8 9]\n"
     ]
    }
   ],
   "source": [
    "a1 = np.random.randint(1,10,size = 10)\n",
    "print(a1)\n",
    "print('--------------')\n",
    "print(np.partition(a1,3)) # 배열에서 가장 작은 값 k개를 반환시켜줘"
   ]
  },
  {
   "cell_type": "markdown",
   "metadata": {
    "id": "77DSA72ML5cI"
   },
   "source": [
    "## 배열 입출력\n"
   ]
  },
  {
   "cell_type": "code",
   "execution_count": 227,
   "metadata": {
    "id": "da-Mm_gzIs7U"
   },
   "outputs": [
    {
     "name": "stdout",
     "output_type": "stream",
     "text": [
      "[[8 8 7 3 4]\n",
      " [9 1 4 6 7]\n",
      " [6 5 6 5 3]\n",
      " [4 8 4 6 5]\n",
      " [4 3 6 5 5]]\n"
     ]
    }
   ],
   "source": [
    "a2 = np.random.randint(1,10,size = (5,5))\n",
    "print(a2)\n",
    "np.save('a',a2)"
   ]
  },
  {
   "cell_type": "code",
   "execution_count": 230,
   "metadata": {
    "colab": {
     "base_uri": "https://localhost:8080/",
     "height": 34
    },
    "id": "pFOWyDvAsf11",
    "outputId": "8be0a298-07ab-4526-e9d4-2796faadee9a"
   },
   "outputs": [
    {
     "name": "stdout",
     "output_type": "stream",
     "text": [
      "[[8 9 4 5 5]\n",
      " [7 1 2 4 4]\n",
      " [4 1 8 8 4]\n",
      " [5 5 4 8 8]\n",
      " [9 2 3 9 1]]\n"
     ]
    }
   ],
   "source": [
    "b2 = np.random.randint(1,10,size=(5,5))\n",
    "print(b2)\n",
    "np.savez('ab',a2,b2)"
   ]
  },
  {
   "cell_type": "code",
   "execution_count": null,
   "metadata": {
    "id": "che4cEJEs2Tr"
   },
   "outputs": [],
   "source": []
  },
  {
   "cell_type": "code",
   "execution_count": null,
   "metadata": {
    "id": "X2yIUsYvtMj6"
   },
   "outputs": [],
   "source": []
  },
  {
   "cell_type": "code",
   "execution_count": null,
   "metadata": {
    "id": "Yj5ec-CYtaH1"
   },
   "outputs": [],
   "source": []
  },
  {
   "cell_type": "code",
   "execution_count": null,
   "metadata": {
    "id": "_NIDrc-VuPmv"
   },
   "outputs": [],
   "source": []
  },
  {
   "cell_type": "code",
   "execution_count": null,
   "metadata": {
    "id": "bPhmIoVBuQMf"
   },
   "outputs": [],
   "source": []
  },
  {
   "cell_type": "code",
   "execution_count": null,
   "metadata": {
    "id": "FeB2p4azuTDv"
   },
   "outputs": [],
   "source": []
  },
  {
   "cell_type": "code",
   "execution_count": null,
   "metadata": {
    "id": "IUg8Vg4fuxR5"
   },
   "outputs": [],
   "source": []
  },
  {
   "cell_type": "code",
   "execution_count": null,
   "metadata": {
    "id": "lIK5dSv6vtm2"
   },
   "outputs": [],
   "source": []
  },
  {
   "cell_type": "code",
   "execution_count": null,
   "metadata": {
    "id": "l4O-gVxdv8-d"
   },
   "outputs": [],
   "source": []
  },
  {
   "cell_type": "markdown",
   "metadata": {
    "id": "JM2Ghx2NGloN"
   },
   "source": [
    "\n",
    "\n",
    "---\n",
    "\n"
   ]
  }
 ],
 "metadata": {
  "colab": {
   "provenance": [],
   "toc_visible": true
  },
  "kernelspec": {
   "display_name": "Python 3 (ipykernel)",
   "language": "python",
   "name": "python3"
  },
  "language_info": {
   "codemirror_mode": {
    "name": "ipython",
    "version": 3
   },
   "file_extension": ".py",
   "mimetype": "text/x-python",
   "name": "python",
   "nbconvert_exporter": "python",
   "pygments_lexer": "ipython3",
   "version": "3.11.3"
  }
 },
 "nbformat": 4,
 "nbformat_minor": 1
}
