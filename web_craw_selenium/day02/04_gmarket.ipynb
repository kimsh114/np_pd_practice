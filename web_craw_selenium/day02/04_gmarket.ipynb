{
 "cells": [
  {
   "cell_type": "markdown",
   "id": "eb136fd8",
   "metadata": {},
   "source": [
    "### Gmarket\n",
    "- 베스트 상품 200개 데이터 수집\n",
    "- 상품의 이미지 200개 다운로드"
   ]
  },
  {
   "cell_type": "code",
   "execution_count": 1,
   "id": "47b5cac8",
   "metadata": {},
   "outputs": [],
   "source": [
    "import pandas as pd\n",
    "import requests\n",
    "from bs4 import BeautifulSoup"
   ]
  },
  {
   "cell_type": "code",
   "execution_count": 2,
   "id": "a116aec3",
   "metadata": {},
   "outputs": [],
   "source": [
    "# 1. URL 찾기"
   ]
  },
  {
   "cell_type": "code",
   "execution_count": 3,
   "id": "336e3c12",
   "metadata": {},
   "outputs": [],
   "source": [
    "url = \"http://corners.gmarket.co.kr/Bestsellers\""
   ]
  },
  {
   "cell_type": "code",
   "execution_count": 4,
   "id": "12d0e9a6",
   "metadata": {},
   "outputs": [],
   "source": [
    "# 2. request > response : str(html)"
   ]
  },
  {
   "cell_type": "code",
   "execution_count": 5,
   "id": "72a75145",
   "metadata": {},
   "outputs": [
    {
     "data": {
      "text/plain": [
       "<Response [200]>"
      ]
     },
     "execution_count": 5,
     "metadata": {},
     "output_type": "execute_result"
    }
   ],
   "source": [
    "response = requests.get(url)\n",
    "response"
   ]
  },
  {
   "cell_type": "code",
   "execution_count": 6,
   "id": "1b963fc7",
   "metadata": {},
   "outputs": [],
   "source": [
    "# 3. bs > DataFrame"
   ]
  },
  {
   "cell_type": "code",
   "execution_count": 7,
   "id": "381fa177",
   "metadata": {},
   "outputs": [],
   "source": [
    "dom = BeautifulSoup(response.text, \"html.parser\")"
   ]
  },
  {
   "cell_type": "code",
   "execution_count": 8,
   "id": "cf40d72f",
   "metadata": {},
   "outputs": [
    {
     "data": {
      "text/plain": [
       "200"
      ]
     },
     "execution_count": 8,
     "metadata": {},
     "output_type": "execute_result"
    }
   ],
   "source": [
    "# select items\n",
    "elements = dom.select(\"#gBestWrap > div.best-list > ul > li\")\n",
    "len(elements)"
   ]
  },
  {
   "cell_type": "code",
   "execution_count": 9,
   "id": "fa6ac779",
   "metadata": {},
   "outputs": [],
   "source": [
    "element = elements[0]"
   ]
  },
  {
   "cell_type": "code",
   "execution_count": 10,
   "id": "aac1ebf1",
   "metadata": {},
   "outputs": [
    {
     "data": {
      "text/plain": [
       "{'title': '[베베숲]NEW 베베숲 프라임 70매 캡 20팩 신규런칭/고평량 도톰한 아기물티슈/7년 연속 판매 1위 베베숲',\n",
       " 'link': 'http://item.gmarket.co.kr/Item?goodscode=3039555146&ver=20230829',\n",
       " 'img': None,\n",
       " 'o_price': '정가42,790원',\n",
       " 's_price': '할인가30,570원 28%'}"
      ]
     },
     "execution_count": 10,
     "metadata": {},
     "output_type": "execute_result"
    }
   ],
   "source": [
    "# select item data\n",
    "data = {\n",
    "    \"title\": element.select_one(\".itemname\").text,\n",
    "    \"link\": element.select_one(\".itemname\").get(\"href\"),\n",
    "    \"img\": element.select_one(\"img\").get(\"data-original\"),\n",
    "    \"o_price\": element.select_one(\".o-price\").text,\n",
    "    \"s_price\": element.select_one(\".s-price\").text.strip().split(\"\\n\")[0],\n",
    "}\n",
    "data"
   ]
  },
  {
   "cell_type": "code",
   "execution_count": 11,
   "id": "d6b0fd52",
   "metadata": {},
   "outputs": [
    {
     "data": {
      "text/html": [
       "<div>\n",
       "<style scoped>\n",
       "    .dataframe tbody tr th:only-of-type {\n",
       "        vertical-align: middle;\n",
       "    }\n",
       "\n",
       "    .dataframe tbody tr th {\n",
       "        vertical-align: top;\n",
       "    }\n",
       "\n",
       "    .dataframe thead th {\n",
       "        text-align: right;\n",
       "    }\n",
       "</style>\n",
       "<table border=\"1\" class=\"dataframe\">\n",
       "  <thead>\n",
       "    <tr style=\"text-align: right;\">\n",
       "      <th></th>\n",
       "      <th>title</th>\n",
       "      <th>link</th>\n",
       "      <th>img</th>\n",
       "      <th>o_price</th>\n",
       "      <th>s_price</th>\n",
       "    </tr>\n",
       "  </thead>\n",
       "  <tbody>\n",
       "    <tr>\n",
       "      <th>198</th>\n",
       "      <td>[스타벅스]스타벅스 카페라떼 컵커피 200mlx20컵+아이스포장</td>\n",
       "      <td>http://item.gmarket.co.kr/Item?goodscode=15521...</td>\n",
       "      <td>http://gdimg.gmarket.co.kr/1552146498/still/30...</td>\n",
       "      <td></td>\n",
       "      <td>할인가32,900원</td>\n",
       "    </tr>\n",
       "    <tr>\n",
       "      <th>199</th>\n",
       "      <td>찾아도 찾아도 끝판왕 1000개 숨은 그림찾기 5종세트 선택구매</td>\n",
       "      <td>http://item.gmarket.co.kr/Item?goodscode=29799...</td>\n",
       "      <td>http://gdimg.gmarket.co.kr/2979976232/still/30...</td>\n",
       "      <td>정가40,000원</td>\n",
       "      <td>할인가36,000원 10%</td>\n",
       "    </tr>\n",
       "  </tbody>\n",
       "</table>\n",
       "</div>"
      ],
      "text/plain": [
       "                                   title  \\\n",
       "198  [스타벅스]스타벅스 카페라떼 컵커피 200mlx20컵+아이스포장   \n",
       "199  찾아도 찾아도 끝판왕 1000개 숨은 그림찾기 5종세트 선택구매   \n",
       "\n",
       "                                                  link  \\\n",
       "198  http://item.gmarket.co.kr/Item?goodscode=15521...   \n",
       "199  http://item.gmarket.co.kr/Item?goodscode=29799...   \n",
       "\n",
       "                                                   img    o_price  \\\n",
       "198  http://gdimg.gmarket.co.kr/1552146498/still/30...              \n",
       "199  http://gdimg.gmarket.co.kr/2979976232/still/30...  정가40,000원   \n",
       "\n",
       "            s_price  \n",
       "198      할인가32,900원  \n",
       "199  할인가36,000원 10%  "
      ]
     },
     "execution_count": 11,
     "metadata": {},
     "output_type": "execute_result"
    }
   ],
   "source": [
    "# make DataFrame\n",
    "data = []\n",
    "for element in elements:\n",
    "    data.append({\n",
    "        \"title\": element.select_one(\".itemname\").text,\n",
    "        \"link\": element.select_one(\".itemname\").get(\"href\"),\n",
    "        \"img\": \"http:\" + element.select_one(\"img\").get(\"src\"),\n",
    "        \"o_price\": element.select_one(\".o-price\").text,\n",
    "        \"s_price\": element.select_one(\".s-price\").text.strip().split(\"\\n\")[0],\n",
    "    })\n",
    "df = pd.DataFrame(data)\n",
    "df.tail(2)"
   ]
  },
  {
   "cell_type": "code",
   "execution_count": 12,
   "id": "b4687120",
   "metadata": {},
   "outputs": [
    {
     "data": {
      "text/html": [
       "<div>\n",
       "<style scoped>\n",
       "    .dataframe tbody tr th:only-of-type {\n",
       "        vertical-align: middle;\n",
       "    }\n",
       "\n",
       "    .dataframe tbody tr th {\n",
       "        vertical-align: top;\n",
       "    }\n",
       "\n",
       "    .dataframe thead th {\n",
       "        text-align: right;\n",
       "    }\n",
       "</style>\n",
       "<table border=\"1\" class=\"dataframe\">\n",
       "  <thead>\n",
       "    <tr style=\"text-align: right;\">\n",
       "      <th></th>\n",
       "      <th>title</th>\n",
       "      <th>link</th>\n",
       "      <th>img</th>\n",
       "      <th>o_price</th>\n",
       "      <th>s_price</th>\n",
       "    </tr>\n",
       "  </thead>\n",
       "  <tbody>\n",
       "    <tr>\n",
       "      <th>0</th>\n",
       "      <td>[베베숲]NEW 베베숲 프라임 70매 캡 20팩 신규런칭/고평량 도톰한 아기물티슈/...</td>\n",
       "      <td>http://item.gmarket.co.kr/Item?goodscode=30395...</td>\n",
       "      <td>http://gdimg.gmarket.co.kr/3039555146/still/30...</td>\n",
       "      <td>정가42,790원</td>\n",
       "      <td>할인가30,570원 28%</td>\n",
       "    </tr>\n",
       "    <tr>\n",
       "      <th>1</th>\n",
       "      <td>[크리넥스](15%+클럽12% 쿠폰적용가 11180) 크리넥스  안심클래식 키친타올...</td>\n",
       "      <td>http://item.gmarket.co.kr/Item?goodscode=27081...</td>\n",
       "      <td>http://gdimg.gmarket.co.kr/2708176714/still/30...</td>\n",
       "      <td>정가21,420원</td>\n",
       "      <td>할인가15,300원 28%</td>\n",
       "    </tr>\n",
       "    <tr>\n",
       "      <th>2</th>\n",
       "      <td>[프레시누리]청정우 홍두깨살 바로구이 육전용 250gX3팩</td>\n",
       "      <td>http://item.gmarket.co.kr/Item?goodscode=22541...</td>\n",
       "      <td>http://gdimg.gmarket.co.kr/2254199961/still/30...</td>\n",
       "      <td>정가26,500원</td>\n",
       "      <td>할인가18,500원 30%</td>\n",
       "    </tr>\n",
       "    <tr>\n",
       "      <th>3</th>\n",
       "      <td>[아디다스](대전신세계)[New Performance] 아디다스 갤럭시 13종 택1</td>\n",
       "      <td>http://item.gmarket.co.kr/Item?goodscode=27404...</td>\n",
       "      <td>http://gdimg.gmarket.co.kr/2740413857/still/30...</td>\n",
       "      <td>정가48,500원</td>\n",
       "      <td>할인가37,640원 22%</td>\n",
       "    </tr>\n",
       "    <tr>\n",
       "      <th>4</th>\n",
       "      <td>[엘에이]올인원 캡슐세탁세제 (1+2앵콜)엘에이 핑크/그린 30개입x3 (총 90개입)</td>\n",
       "      <td>http://item.gmarket.co.kr/Item?goodscode=25153...</td>\n",
       "      <td>http://gdimg.gmarket.co.kr/2515395333/still/30...</td>\n",
       "      <td>정가31,500원</td>\n",
       "      <td>할인가22,500원 28%</td>\n",
       "    </tr>\n",
       "  </tbody>\n",
       "</table>\n",
       "</div>"
      ],
      "text/plain": [
       "                                               title  \\\n",
       "0  [베베숲]NEW 베베숲 프라임 70매 캡 20팩 신규런칭/고평량 도톰한 아기물티슈/...   \n",
       "1  [크리넥스](15%+클럽12% 쿠폰적용가 11180) 크리넥스  안심클래식 키친타올...   \n",
       "2                   [프레시누리]청정우 홍두깨살 바로구이 육전용 250gX3팩   \n",
       "3     [아디다스](대전신세계)[New Performance] 아디다스 갤럭시 13종 택1   \n",
       "4   [엘에이]올인원 캡슐세탁세제 (1+2앵콜)엘에이 핑크/그린 30개입x3 (총 90개입)   \n",
       "\n",
       "                                                link  \\\n",
       "0  http://item.gmarket.co.kr/Item?goodscode=30395...   \n",
       "1  http://item.gmarket.co.kr/Item?goodscode=27081...   \n",
       "2  http://item.gmarket.co.kr/Item?goodscode=22541...   \n",
       "3  http://item.gmarket.co.kr/Item?goodscode=27404...   \n",
       "4  http://item.gmarket.co.kr/Item?goodscode=25153...   \n",
       "\n",
       "                                                 img    o_price  \\\n",
       "0  http://gdimg.gmarket.co.kr/3039555146/still/30...  정가42,790원   \n",
       "1  http://gdimg.gmarket.co.kr/2708176714/still/30...  정가21,420원   \n",
       "2  http://gdimg.gmarket.co.kr/2254199961/still/30...  정가26,500원   \n",
       "3  http://gdimg.gmarket.co.kr/2740413857/still/30...  정가48,500원   \n",
       "4  http://gdimg.gmarket.co.kr/2515395333/still/30...  정가31,500원   \n",
       "\n",
       "          s_price  \n",
       "0  할인가30,570원 28%  \n",
       "1  할인가15,300원 28%  \n",
       "2  할인가18,500원 30%  \n",
       "3  할인가37,640원 22%  \n",
       "4  할인가22,500원 28%  "
      ]
     },
     "execution_count": 12,
     "metadata": {},
     "output_type": "execute_result"
    }
   ],
   "source": [
    "df.head()"
   ]
  },
  {
   "cell_type": "code",
   "execution_count": 13,
   "id": "da48d36d",
   "metadata": {},
   "outputs": [],
   "source": [
    "# 4. download image"
   ]
  },
  {
   "cell_type": "code",
   "execution_count": 14,
   "id": "ebe240b8",
   "metadata": {},
   "outputs": [],
   "source": [
    "# make directory\n",
    "import os\n",
    "path = 'data'\n",
    "if not os.path.exists(path):\n",
    "    os.makedirs(path)"
   ]
  },
  {
   "cell_type": "code",
   "execution_count": 15,
   "id": "bff061b3",
   "metadata": {},
   "outputs": [
    {
     "name": "stdout",
     "output_type": "stream",
     "text": [
      "000.png   001.png   002.png   003.png   004.png   test.png\r\n"
     ]
    }
   ],
   "source": [
    "%ls data"
   ]
  },
  {
   "cell_type": "code",
   "execution_count": 16,
   "id": "c0b05238",
   "metadata": {},
   "outputs": [
    {
     "name": "stdout",
     "output_type": "stream",
     "text": [
      "http://gdimg.gmarket.co.kr/3039555146/still/300?ver=20230829\n"
     ]
    }
   ],
   "source": [
    "img_link = df.loc[0, \"img\"]\n",
    "print(img_link)"
   ]
  },
  {
   "cell_type": "code",
   "execution_count": 17,
   "id": "937f3a07",
   "metadata": {},
   "outputs": [],
   "source": [
    "# download image"
   ]
  },
  {
   "cell_type": "code",
   "execution_count": 18,
   "id": "b0f13cc1",
   "metadata": {},
   "outputs": [
    {
     "data": {
      "text/plain": [
       "<Response [200]>"
      ]
     },
     "execution_count": 18,
     "metadata": {},
     "output_type": "execute_result"
    }
   ],
   "source": [
    "response = requests.get(img_link)\n",
    "response"
   ]
  },
  {
   "cell_type": "code",
   "execution_count": 19,
   "id": "08f9b232",
   "metadata": {},
   "outputs": [],
   "source": [
    "with open(f\"{path}/test.png\", \"wb\") as file:\n",
    "    file.write(response.content)"
   ]
  },
  {
   "cell_type": "code",
   "execution_count": 20,
   "id": "b111b686",
   "metadata": {},
   "outputs": [
    {
     "name": "stdout",
     "output_type": "stream",
     "text": [
      "000.png   001.png   002.png   003.png   004.png   test.png\r\n"
     ]
    }
   ],
   "source": [
    "%ls data"
   ]
  },
  {
   "cell_type": "code",
   "execution_count": 21,
   "id": "421e9466",
   "metadata": {},
   "outputs": [],
   "source": [
    "from PIL import Image as pil"
   ]
  },
  {
   "cell_type": "code",
   "execution_count": 22,
   "id": "8994dcbe",
   "metadata": {},
   "outputs": [
    {
     "data": {
      "image/png": "[encoded data removed]",
      "text/plain": [
       "<PIL.PngImagePlugin.PngImageFile image mode=RGBA size=300x300>"
      ]
     },
     "execution_count": 22,
     "metadata": {},
     "output_type": "execute_result"
    }
   ],
   "source": [
    "pil.open(f\"{path}/test.png\")"
   ]
  },
  {
   "cell_type": "code",
   "execution_count": 23,
   "id": "aacc3d49",
   "metadata": {},
   "outputs": [
    {
     "name": "stdout",
     "output_type": "stream",
     "text": [
      "0 1 2 3 4 "
     ]
    }
   ],
   "source": [
    "# 5개의 아이템 이미지 다운로드\n",
    "for idx, data in df[:5].iterrows():\n",
    "    filename = \"0\" * (3 - len(str(idx))) + str(idx)\n",
    "    print(idx, end=\" \")\n",
    "    response = requests.get(data.img)\n",
    "    with open(f\"{path}/{filename}.png\", \"wb\") as file:\n",
    "        file.write(response.content)"
   ]
  },
  {
   "cell_type": "code",
   "execution_count": 24,
   "id": "be355547",
   "metadata": {},
   "outputs": [
    {
     "name": "stdout",
     "output_type": "stream",
     "text": [
      "000.png   001.png   002.png   003.png   004.png   test.png\r\n"
     ]
    }
   ],
   "source": [
    "%ls data"
   ]
  },
  {
   "cell_type": "code",
   "execution_count": 25,
   "id": "6b21bf87",
   "metadata": {},
   "outputs": [
    {
     "data": {
      "image/png": "[encoded data removed]",
      "text/plain": [
       "<PIL.JpegImagePlugin.JpegImageFile image mode=RGB size=300x300>"
      ]
     },
     "execution_count": 25,
     "metadata": {},
     "output_type": "execute_result"
    }
   ],
   "source": [
    "pil.open(f\"{path}/003.png\")"
   ]
  }
 ],
 "metadata": {
  "kernelspec": {
   "display_name": "Python 3 (ipykernel)",
   "language": "python",
   "name": "python3"
  },
  "language_info": {
   "codemirror_mode": {
    "name": "ipython",
    "version": 3
   },
   "file_extension": ".py",
   "mimetype": "text/x-python",
   "name": "python",
   "nbconvert_exporter": "python",
   "pygments_lexer": "ipython3",
   "version": "3.11.3"
  },
  "toc": {
   "base_numbering": 1,
   "nav_menu": {},
   "number_sections": false,
   "sideBar": true,
   "skip_h1_title": false,
   "title_cell": "Table of Contents",
   "title_sidebar": "Contents",
   "toc_cell": false,
   "toc_position": {},
   "toc_section_display": true,
   "toc_window_display": false
  }
 },
 "nbformat": 4,
 "nbformat_minor": 5
}
