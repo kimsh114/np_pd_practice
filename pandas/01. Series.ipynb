{
 "cells": [
  {
   "cell_type": "markdown",
   "id": "9e1159e7",
   "metadata": {},
   "source": [
    "# 1. series\n",
    "\n",
    "-> 1차원 데이터(정수, 실수, 문자열 등)이 시리즈 데이터에 해당한다."
   ]
  },
  {
   "cell_type": "markdown",
   "id": "340a9a87",
   "metadata": {},
   "source": [
    " ## - series 객체생성\n",
    " 예) 1월 부터 4월까지 평균 온도 데이터"
   ]
  },
  {
   "cell_type": "code",
   "execution_count": 1,
   "id": "a6a690dc",
   "metadata": {},
   "outputs": [],
   "source": [
    "import pandas as pd"
   ]
  },
  {
   "cell_type": "code",
   "execution_count": 2,
   "id": "8d6675b2",
   "metadata": {},
   "outputs": [
    {
     "name": "stdout",
     "output_type": "stream",
     "text": [
      "0   -20\n",
      "1   -10\n",
      "2    10\n",
      "3    20\n",
      "dtype: int64\n"
     ]
    }
   ],
   "source": [
    "temp = pd.Series([-20,-10,10,20])\n",
    "print(temp)"
   ]
  },
  {
   "cell_type": "code",
   "execution_count": 4,
   "id": "02184b38",
   "metadata": {},
   "outputs": [
    {
     "name": "stdout",
     "output_type": "stream",
     "text": [
      "-20\n",
      "10\n"
     ]
    }
   ],
   "source": [
    "print(temp[0]) # 1월 온도를 출력함.\n",
    "print(temp[2]) # 3월 온도를 출력함."
   ]
  },
  {
   "cell_type": "markdown",
   "id": "e9889033",
   "metadata": {},
   "source": [
    "## - series 객체 생성(인덱스 지정)"
   ]
  },
  {
   "cell_type": "code",
   "execution_count": 6,
   "id": "c018d150",
   "metadata": {},
   "outputs": [
    {
     "data": {
      "text/plain": [
       "jan   -20\n",
       "feb   -10\n",
       "mar    10\n",
       "apr    20\n",
       "dtype: int64"
      ]
     },
     "execution_count": 6,
     "metadata": {},
     "output_type": "execute_result"
    }
   ],
   "source": [
    "temp = pd.Series([-20,-10,10,20], index = ['jan','feb','mar','apr']) # 내가 원하는 인덱스를 직접 지정한다.\n",
    "temp"
   ]
  }
 ],
 "metadata": {
  "kernelspec": {
   "display_name": "Python 3 (ipykernel)",
   "language": "python",
   "name": "python3"
  },
  "language_info": {
   "codemirror_mode": {
    "name": "ipython",
    "version": 3
   },
   "file_extension": ".py",
   "mimetype": "text/x-python",
   "name": "python",
   "nbconvert_exporter": "python",
   "pygments_lexer": "ipython3",
   "version": "3.11.3"
  }
 },
 "nbformat": 4,
 "nbformat_minor": 5
}
